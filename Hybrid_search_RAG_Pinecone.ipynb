{
  "cells": [
    {
      "cell_type": "markdown",
      "metadata": {
        "id": "L1UXtdwXBnDh"
      },
      "source": [
        "Hybrid: Semantic + Keyword search (dotproduct)"
      ]
    },
    {
      "cell_type": "code",
      "execution_count": 1,
      "metadata": {
        "id": "MULVXeDt8sHY"
      },
      "outputs": [],
      "source": [
        "pinecone_api=\"<your-api-key>\""
      ]
    },
    {
      "cell_type": "code",
      "execution_count": 2,
      "metadata": {
        "colab": {
          "base_uri": "https://localhost:8080/"
        },
        "id": "5q0oiibN97dX",
        "outputId": "eabbb16a-4dc3-465c-a5de-816ddd4a6116"
      },
      "outputs": [
        {
          "name": "stdout",
          "output_type": "stream",
          "text": [
            "Collecting pinecone-client\n",
            "  Downloading pinecone_client-5.0.1-py3-none-any.whl.metadata (19 kB)\n",
            "Collecting pinecone-text\n",
            "  Downloading pinecone_text-0.9.0-py3-none-any.whl.metadata (10 kB)\n",
            "Collecting pinecone-notebooks\n",
            "  Downloading pinecone_notebooks-0.1.1-py3-none-any.whl.metadata (2.6 kB)\n",
            "Requirement already satisfied: certifi>=2019.11.17 in /usr/local/lib/python3.10/dist-packages (from pinecone-client) (2024.7.4)\n",
            "Collecting pinecone-plugin-inference<2.0.0,>=1.0.3 (from pinecone-client)\n",
            "  Downloading pinecone_plugin_inference-1.0.3-py3-none-any.whl.metadata (2.2 kB)\n",
            "Collecting pinecone-plugin-interface<0.0.8,>=0.0.7 (from pinecone-client)\n",
            "  Downloading pinecone_plugin_interface-0.0.7-py3-none-any.whl.metadata (1.2 kB)\n",
            "Requirement already satisfied: tqdm>=4.64.1 in /usr/local/lib/python3.10/dist-packages (from pinecone-client) (4.66.5)\n",
            "Requirement already satisfied: typing-extensions>=3.7.4 in /usr/local/lib/python3.10/dist-packages (from pinecone-client) (4.12.2)\n",
            "Requirement already satisfied: urllib3>=1.26.0 in /usr/local/lib/python3.10/dist-packages (from pinecone-client) (2.0.7)\n",
            "Collecting mmh3<5.0.0,>=4.1.0 (from pinecone-text)\n",
            "  Downloading mmh3-4.1.0-cp310-cp310-manylinux_2_5_x86_64.manylinux1_x86_64.manylinux_2_17_x86_64.manylinux2014_x86_64.whl.metadata (13 kB)\n",
            "Requirement already satisfied: nltk<4.0.0,>=3.6.5 in /usr/local/lib/python3.10/dist-packages (from pinecone-text) (3.8.1)\n",
            "Requirement already satisfied: numpy<2.0,>=1.21.5 in /usr/local/lib/python3.10/dist-packages (from pinecone-text) (1.26.4)\n",
            "Collecting python-dotenv<2.0.0,>=1.0.1 (from pinecone-text)\n",
            "  Downloading python_dotenv-1.0.1-py3-none-any.whl.metadata (23 kB)\n",
            "Requirement already satisfied: requests<3.0.0,>=2.25.0 in /usr/local/lib/python3.10/dist-packages (from pinecone-text) (2.32.3)\n",
            "Collecting types-requests<3.0.0,>=2.25.0 (from pinecone-text)\n",
            "  Downloading types_requests-2.32.0.20240712-py3-none-any.whl.metadata (1.9 kB)\n",
            "Collecting wget<4.0,>=3.2 (from pinecone-text)\n",
            "  Downloading wget-3.2.zip (10 kB)\n",
            "  Preparing metadata (setup.py) ... \u001b[?25l\u001b[?25hdone\n",
            "Requirement already satisfied: click in /usr/local/lib/python3.10/dist-packages (from nltk<4.0.0,>=3.6.5->pinecone-text) (8.1.7)\n",
            "Requirement already satisfied: joblib in /usr/local/lib/python3.10/dist-packages (from nltk<4.0.0,>=3.6.5->pinecone-text) (1.4.2)\n",
            "Requirement already satisfied: regex>=2021.8.3 in /usr/local/lib/python3.10/dist-packages (from nltk<4.0.0,>=3.6.5->pinecone-text) (2024.5.15)\n",
            "Requirement already satisfied: charset-normalizer<4,>=2 in /usr/local/lib/python3.10/dist-packages (from requests<3.0.0,>=2.25.0->pinecone-text) (3.3.2)\n",
            "Requirement already satisfied: idna<4,>=2.5 in /usr/local/lib/python3.10/dist-packages (from requests<3.0.0,>=2.25.0->pinecone-text) (3.7)\n",
            "Downloading pinecone_client-5.0.1-py3-none-any.whl (244 kB)\n",
            "\u001b[2K   \u001b[90m━━━━━━━━━━━━━━━━━━━━━━━━━━━━━━━━━━━━━━━━\u001b[0m \u001b[32m244.8/244.8 kB\u001b[0m \u001b[31m13.6 MB/s\u001b[0m eta \u001b[36m0:00:00\u001b[0m\n",
            "\u001b[?25hDownloading pinecone_text-0.9.0-py3-none-any.whl (23 kB)\n",
            "Downloading pinecone_notebooks-0.1.1-py3-none-any.whl (7.3 kB)\n",
            "Downloading mmh3-4.1.0-cp310-cp310-manylinux_2_5_x86_64.manylinux1_x86_64.manylinux_2_17_x86_64.manylinux2014_x86_64.whl (67 kB)\n",
            "\u001b[2K   \u001b[90m━━━━━━━━━━━━━━━━━━━━━━━━━━━━━━━━━━━━━━━━\u001b[0m \u001b[32m67.6/67.6 kB\u001b[0m \u001b[31m4.8 MB/s\u001b[0m eta \u001b[36m0:00:00\u001b[0m\n",
            "\u001b[?25hDownloading pinecone_plugin_inference-1.0.3-py3-none-any.whl (117 kB)\n",
            "\u001b[2K   \u001b[90m━━━━━━━━━━━━━━━━━━━━━━━━━━━━━━━━━━━━━━━━\u001b[0m \u001b[32m117.6/117.6 kB\u001b[0m \u001b[31m7.4 MB/s\u001b[0m eta \u001b[36m0:00:00\u001b[0m\n",
            "\u001b[?25hDownloading pinecone_plugin_interface-0.0.7-py3-none-any.whl (6.2 kB)\n",
            "Downloading python_dotenv-1.0.1-py3-none-any.whl (19 kB)\n",
            "Downloading types_requests-2.32.0.20240712-py3-none-any.whl (15 kB)\n",
            "Building wheels for collected packages: wget\n",
            "  Building wheel for wget (setup.py) ... \u001b[?25l\u001b[?25hdone\n",
            "  Created wheel for wget: filename=wget-3.2-py3-none-any.whl size=9656 sha256=c36dea53bf55069bd59e192586abbbba74f932dc111c6e6bd65dac97202a9132\n",
            "  Stored in directory: /root/.cache/pip/wheels/8b/f1/7f/5c94f0a7a505ca1c81cd1d9208ae2064675d97582078e6c769\n",
            "Successfully built wget\n",
            "Installing collected packages: wget, mmh3, types-requests, python-dotenv, pinecone-plugin-interface, pinecone-notebooks, pinecone-text, pinecone-plugin-inference, pinecone-client\n",
            "Successfully installed mmh3-4.1.0 pinecone-client-5.0.1 pinecone-notebooks-0.1.1 pinecone-plugin-inference-1.0.3 pinecone-plugin-interface-0.0.7 pinecone-text-0.9.0 python-dotenv-1.0.1 types-requests-2.32.0.20240712 wget-3.2\n"
          ]
        }
      ],
      "source": [
        "!pip install pinecone-client pinecone-text pinecone-notebooks"
      ]
    },
    {
      "cell_type": "code",
      "execution_count": 3,
      "metadata": {
        "colab": {
          "base_uri": "https://localhost:8080/"
        },
        "id": "YJKMpDBP-XCf",
        "outputId": "0f3c18c0-11e2-415c-e810-01657b3f72a6"
      },
      "outputs": [
        {
          "name": "stdout",
          "output_type": "stream",
          "text": [
            "Collecting langchain\n",
            "  Downloading langchain-0.2.13-py3-none-any.whl.metadata (7.1 kB)\n",
            "Collecting langchain-community\n",
            "  Downloading langchain_community-0.2.12-py3-none-any.whl.metadata (2.7 kB)\n",
            "Requirement already satisfied: PyYAML>=5.3 in /usr/local/lib/python3.10/dist-packages (from langchain) (6.0.2)\n",
            "Requirement already satisfied: SQLAlchemy<3,>=1.4 in /usr/local/lib/python3.10/dist-packages (from langchain) (2.0.32)\n",
            "Requirement already satisfied: aiohttp<4.0.0,>=3.8.3 in /usr/local/lib/python3.10/dist-packages (from langchain) (3.10.1)\n",
            "Requirement already satisfied: async-timeout<5.0.0,>=4.0.0 in /usr/local/lib/python3.10/dist-packages (from langchain) (4.0.3)\n",
            "Collecting langchain-core<0.3.0,>=0.2.30 (from langchain)\n",
            "  Downloading langchain_core-0.2.30-py3-none-any.whl.metadata (6.2 kB)\n",
            "Collecting langchain-text-splitters<0.3.0,>=0.2.0 (from langchain)\n",
            "  Downloading langchain_text_splitters-0.2.2-py3-none-any.whl.metadata (2.1 kB)\n",
            "Collecting langsmith<0.2.0,>=0.1.17 (from langchain)\n",
            "  Downloading langsmith-0.1.99-py3-none-any.whl.metadata (13 kB)\n",
            "Requirement already satisfied: numpy<2,>=1 in /usr/local/lib/python3.10/dist-packages (from langchain) (1.26.4)\n",
            "Requirement already satisfied: pydantic<3,>=1 in /usr/local/lib/python3.10/dist-packages (from langchain) (2.8.2)\n",
            "Requirement already satisfied: requests<3,>=2 in /usr/local/lib/python3.10/dist-packages (from langchain) (2.32.3)\n",
            "Collecting tenacity!=8.4.0,<9.0.0,>=8.1.0 (from langchain)\n",
            "  Downloading tenacity-8.5.0-py3-none-any.whl.metadata (1.2 kB)\n",
            "Collecting dataclasses-json<0.7,>=0.5.7 (from langchain-community)\n",
            "  Downloading dataclasses_json-0.6.7-py3-none-any.whl.metadata (25 kB)\n",
            "Requirement already satisfied: aiohappyeyeballs>=2.3.0 in /usr/local/lib/python3.10/dist-packages (from aiohttp<4.0.0,>=3.8.3->langchain) (2.3.4)\n",
            "Requirement already satisfied: aiosignal>=1.1.2 in /usr/local/lib/python3.10/dist-packages (from aiohttp<4.0.0,>=3.8.3->langchain) (1.3.1)\n",
            "Requirement already satisfied: attrs>=17.3.0 in /usr/local/lib/python3.10/dist-packages (from aiohttp<4.0.0,>=3.8.3->langchain) (24.2.0)\n",
            "Requirement already satisfied: frozenlist>=1.1.1 in /usr/local/lib/python3.10/dist-packages (from aiohttp<4.0.0,>=3.8.3->langchain) (1.4.1)\n",
            "Requirement already satisfied: multidict<7.0,>=4.5 in /usr/local/lib/python3.10/dist-packages (from aiohttp<4.0.0,>=3.8.3->langchain) (6.0.5)\n",
            "Requirement already satisfied: yarl<2.0,>=1.0 in /usr/local/lib/python3.10/dist-packages (from aiohttp<4.0.0,>=3.8.3->langchain) (1.9.4)\n",
            "Collecting marshmallow<4.0.0,>=3.18.0 (from dataclasses-json<0.7,>=0.5.7->langchain-community)\n",
            "  Downloading marshmallow-3.21.3-py3-none-any.whl.metadata (7.1 kB)\n",
            "Collecting typing-inspect<1,>=0.4.0 (from dataclasses-json<0.7,>=0.5.7->langchain-community)\n",
            "  Downloading typing_inspect-0.9.0-py3-none-any.whl.metadata (1.5 kB)\n",
            "Collecting jsonpatch<2.0,>=1.33 (from langchain-core<0.3.0,>=0.2.30->langchain)\n",
            "  Downloading jsonpatch-1.33-py2.py3-none-any.whl.metadata (3.0 kB)\n",
            "Requirement already satisfied: packaging<25,>=23.2 in /usr/local/lib/python3.10/dist-packages (from langchain-core<0.3.0,>=0.2.30->langchain) (24.1)\n",
            "Requirement already satisfied: typing-extensions>=4.7 in /usr/local/lib/python3.10/dist-packages (from langchain-core<0.3.0,>=0.2.30->langchain) (4.12.2)\n",
            "Collecting orjson<4.0.0,>=3.9.14 (from langsmith<0.2.0,>=0.1.17->langchain)\n",
            "  Downloading orjson-3.10.7-cp310-cp310-manylinux_2_17_x86_64.manylinux2014_x86_64.whl.metadata (50 kB)\n",
            "\u001b[2K     \u001b[90m━━━━━━━━━━━━━━━━━━━━━━━━━━━━━━━━━━━━━━━━\u001b[0m \u001b[32m50.4/50.4 kB\u001b[0m \u001b[31m3.1 MB/s\u001b[0m eta \u001b[36m0:00:00\u001b[0m\n",
            "\u001b[?25hRequirement already satisfied: annotated-types>=0.4.0 in /usr/local/lib/python3.10/dist-packages (from pydantic<3,>=1->langchain) (0.7.0)\n",
            "Requirement already satisfied: pydantic-core==2.20.1 in /usr/local/lib/python3.10/dist-packages (from pydantic<3,>=1->langchain) (2.20.1)\n",
            "Requirement already satisfied: charset-normalizer<4,>=2 in /usr/local/lib/python3.10/dist-packages (from requests<3,>=2->langchain) (3.3.2)\n",
            "Requirement already satisfied: idna<4,>=2.5 in /usr/local/lib/python3.10/dist-packages (from requests<3,>=2->langchain) (3.7)\n",
            "Requirement already satisfied: urllib3<3,>=1.21.1 in /usr/local/lib/python3.10/dist-packages (from requests<3,>=2->langchain) (2.0.7)\n",
            "Requirement already satisfied: certifi>=2017.4.17 in /usr/local/lib/python3.10/dist-packages (from requests<3,>=2->langchain) (2024.7.4)\n",
            "Requirement already satisfied: greenlet!=0.4.17 in /usr/local/lib/python3.10/dist-packages (from SQLAlchemy<3,>=1.4->langchain) (3.0.3)\n",
            "Collecting jsonpointer>=1.9 (from jsonpatch<2.0,>=1.33->langchain-core<0.3.0,>=0.2.30->langchain)\n",
            "  Downloading jsonpointer-3.0.0-py2.py3-none-any.whl.metadata (2.3 kB)\n",
            "Collecting mypy-extensions>=0.3.0 (from typing-inspect<1,>=0.4.0->dataclasses-json<0.7,>=0.5.7->langchain-community)\n",
            "  Downloading mypy_extensions-1.0.0-py3-none-any.whl.metadata (1.1 kB)\n",
            "Downloading langchain-0.2.13-py3-none-any.whl (997 kB)\n",
            "\u001b[2K   \u001b[90m━━━━━━━━━━━━━━━━━━━━━━━━━━━━━━━━━━━━━━━━\u001b[0m \u001b[32m997.8/997.8 kB\u001b[0m \u001b[31m43.9 MB/s\u001b[0m eta \u001b[36m0:00:00\u001b[0m\n",
            "\u001b[?25hDownloading langchain_community-0.2.12-py3-none-any.whl (2.3 MB)\n",
            "\u001b[2K   \u001b[90m━━━━━━━━━━━━━━━━━━━━━━━━━━━━━━━━━━━━━━━━\u001b[0m \u001b[32m2.3/2.3 MB\u001b[0m \u001b[31m72.0 MB/s\u001b[0m eta \u001b[36m0:00:00\u001b[0m\n",
            "\u001b[?25hDownloading dataclasses_json-0.6.7-py3-none-any.whl (28 kB)\n",
            "Downloading langchain_core-0.2.30-py3-none-any.whl (384 kB)\n",
            "\u001b[2K   \u001b[90m━━━━━━━━━━━━━━━━━━━━━━━━━━━━━━━━━━━━━━━━\u001b[0m \u001b[32m384.8/384.8 kB\u001b[0m \u001b[31m28.1 MB/s\u001b[0m eta \u001b[36m0:00:00\u001b[0m\n",
            "\u001b[?25hDownloading langchain_text_splitters-0.2.2-py3-none-any.whl (25 kB)\n",
            "Downloading langsmith-0.1.99-py3-none-any.whl (140 kB)\n",
            "\u001b[2K   \u001b[90m━━━━━━━━━━━━━━━━━━━━━━━━━━━━━━━━━━━━━━━━\u001b[0m \u001b[32m140.4/140.4 kB\u001b[0m \u001b[31m10.5 MB/s\u001b[0m eta \u001b[36m0:00:00\u001b[0m\n",
            "\u001b[?25hDownloading tenacity-8.5.0-py3-none-any.whl (28 kB)\n",
            "Downloading jsonpatch-1.33-py2.py3-none-any.whl (12 kB)\n",
            "Downloading marshmallow-3.21.3-py3-none-any.whl (49 kB)\n",
            "\u001b[2K   \u001b[90m━━━━━━━━━━━━━━━━━━━━━━━━━━━━━━━━━━━━━━━━\u001b[0m \u001b[32m49.2/49.2 kB\u001b[0m \u001b[31m3.9 MB/s\u001b[0m eta \u001b[36m0:00:00\u001b[0m\n",
            "\u001b[?25hDownloading orjson-3.10.7-cp310-cp310-manylinux_2_17_x86_64.manylinux2014_x86_64.whl (141 kB)\n",
            "\u001b[2K   \u001b[90m━━━━━━━━━━━━━━━━━━━━━━━━━━━━━━━━━━━━━━━━\u001b[0m \u001b[32m141.9/141.9 kB\u001b[0m \u001b[31m12.0 MB/s\u001b[0m eta \u001b[36m0:00:00\u001b[0m\n",
            "\u001b[?25hDownloading typing_inspect-0.9.0-py3-none-any.whl (8.8 kB)\n",
            "Downloading jsonpointer-3.0.0-py2.py3-none-any.whl (7.6 kB)\n",
            "Downloading mypy_extensions-1.0.0-py3-none-any.whl (4.7 kB)\n",
            "Installing collected packages: tenacity, orjson, mypy-extensions, marshmallow, jsonpointer, typing-inspect, jsonpatch, langsmith, dataclasses-json, langchain-core, langchain-text-splitters, langchain, langchain-community\n",
            "  Attempting uninstall: tenacity\n",
            "    Found existing installation: tenacity 9.0.0\n",
            "    Uninstalling tenacity-9.0.0:\n",
            "      Successfully uninstalled tenacity-9.0.0\n",
            "Successfully installed dataclasses-json-0.6.7 jsonpatch-1.33 jsonpointer-3.0.0 langchain-0.2.13 langchain-community-0.2.12 langchain-core-0.2.30 langchain-text-splitters-0.2.2 langsmith-0.1.99 marshmallow-3.21.3 mypy-extensions-1.0.0 orjson-3.10.7 tenacity-8.5.0 typing-inspect-0.9.0\n"
          ]
        }
      ],
      "source": [
        "!pip install langchain langchain-community"
      ]
    },
    {
      "cell_type": "code",
      "execution_count": 4,
      "metadata": {
        "id": "yZBmurNb-oY7"
      },
      "outputs": [],
      "source": [
        "from langchain_community.retrievers import PineconeHybridSearchRetriever"
      ]
    },
    {
      "cell_type": "code",
      "execution_count": 5,
      "metadata": {
        "id": "bdZnHyiK_K1l"
      },
      "outputs": [],
      "source": [
        "from pinecone import Pinecone, ServerlessSpec\n",
        "index_name=\"pinecone-hybrid-research-paper-hybrid\"\n",
        "pc=Pinecone(api_key=pinecone_api)\n",
        "pc.create_index(\n",
        "    name=index_name,\n",
        "    dimension=768,\n",
        "    metric=\"dotproduct\",\n",
        "    spec=ServerlessSpec(\n",
        "       cloud=\"aws\",\n",
        "       region=\"us-east-1\"\n",
        "    )\n",
        ")\n"
      ]
    },
    {
      "cell_type": "code",
      "execution_count": 6,
      "metadata": {
        "colab": {
          "base_uri": "https://localhost:8080/"
        },
        "id": "pO_b6Q6XEP6c",
        "outputId": "b0b69eed-c361-4e3e-e1c3-b9599a7230f0"
      },
      "outputs": [
        {
          "data": {
            "text/plain": [
              "<pinecone.data.index.Index at 0x783e7cf46f50>"
            ]
          },
          "execution_count": 6,
          "metadata": {},
          "output_type": "execute_result"
        }
      ],
      "source": [
        "index=pc.Index(index_name)\n",
        "index"
      ]
    },
    {
      "cell_type": "code",
      "execution_count": 7,
      "metadata": {
        "id": "DVs-CenbEVUc"
      },
      "outputs": [],
      "source": [
        "!pip install --upgrade --quiet  langchain-google-genai"
      ]
    },
    {
      "cell_type": "code",
      "execution_count": 8,
      "metadata": {
        "colab": {
          "base_uri": "https://localhost:8080/"
        },
        "id": "wBQ93z9YE05k",
        "outputId": "1020e0dd-81dc-43fa-b0a5-977e045d262e"
      },
      "outputs": [
        {
          "data": {
            "text/plain": [
              "GoogleGenerativeAIEmbeddings(client=<google.ai.generativelanguage_v1beta.services.generative_service.client.GenerativeServiceClient object at 0x783e5ac7d5a0>, model='models/embedding-001', task_type=None, google_api_key=SecretStr('**********'), credentials=None, client_options=None, transport=None, request_options=None)"
            ]
          },
          "execution_count": 8,
          "metadata": {},
          "output_type": "execute_result"
        }
      ],
      "source": [
        "from langchain_google_genai import GoogleGenerativeAIEmbeddings\n",
        "\n",
        "embeddings=GoogleGenerativeAIEmbeddings(model=\"models/embedding-001\",google_api_key=\"<your-api-key>\")\n",
        "embeddings"
      ]
    },
    {
      "cell_type": "code",
      "execution_count": 9,
      "metadata": {
        "colab": {
          "base_uri": "https://localhost:8080/"
        },
        "id": "KYjKMljAFRbR",
        "outputId": "53226a3c-1bc1-4968-aa41-55ca092e8eff"
      },
      "outputs": [
        {
          "name": "stderr",
          "output_type": "stream",
          "text": [
            "[nltk_data] Downloading package punkt to /root/nltk_data...\n",
            "[nltk_data]   Unzipping tokenizers/punkt.zip.\n",
            "[nltk_data] Downloading package stopwords to /root/nltk_data...\n",
            "[nltk_data]   Unzipping corpora/stopwords.zip.\n"
          ]
        },
        {
          "data": {
            "text/plain": [
              "<pinecone_text.sparse.bm25_encoder.BM25Encoder at 0x783e5a95ea40>"
            ]
          },
          "execution_count": 9,
          "metadata": {},
          "output_type": "execute_result"
        }
      ],
      "source": [
        "from pinecone_text.sparse import BM25Encoder\n",
        "\n",
        "bm25_encoder=BM25Encoder().default()\n",
        "bm25_encoder"
      ]
    },
    {
      "cell_type": "code",
      "execution_count": 10,
      "metadata": {
        "id": "5HqU0QdfGbwh"
      },
      "outputs": [],
      "source": [
        "retriver=PineconeHybridSearchRetriever(embeddings=embeddings,sparse_encoder=bm25_encoder,index=index)"
      ]
    },
    {
      "cell_type": "code",
      "execution_count": 11,
      "metadata": {
        "id": "_GO0fiS5YVSl"
      },
      "outputs": [],
      "source": [
        "from langchain.text_splitter import RecursiveCharacterTextSplitter\n",
        "\n",
        "# Step 1: Read the content of the text file\n",
        "with open('/content/1-s2.0-S0925838824023909-main.txt', 'r', encoding='utf-8') as file:\n",
        "    text = file.read()\n",
        "\n",
        "# Step 2: Initialize the RecursiveCharacterTextSplitter\n",
        "text_splitter = RecursiveCharacterTextSplitter(\n",
        "    chunk_size=400,  # Specify the chunk size (number of characters)\n",
        "    chunk_overlap=70  # Specify the overlap between chunks\n",
        ")\n",
        "\n",
        "# Step 3: Split the text into chunks\n",
        "chunks = text_splitter.split_text(text)\n",
        "\n",
        "\n"
      ]
    },
    {
      "cell_type": "code",
      "execution_count": 12,
      "metadata": {
        "colab": {
          "base_uri": "https://localhost:8080/"
        },
        "id": "FlJKHGfxZzDo",
        "outputId": "31b97b76-ef21-4c56-ffb0-421836655456"
      },
      "outputs": [
        {
          "data": {
            "text/plain": [
              "<pinecone.data.index.Index at 0x783d90a09ae0>"
            ]
          },
          "execution_count": 12,
          "metadata": {},
          "output_type": "execute_result"
        }
      ],
      "source": [
        "index=pc.Index(index_name)\n",
        "index"
      ]
    },
    {
      "cell_type": "code",
      "execution_count": 13,
      "metadata": {
        "id": "IOWngyv5O0hr"
      },
      "outputs": [],
      "source": [
        "retriver=PineconeHybridSearchRetriever(embeddings=embeddings,sparse_encoder=bm25_encoder,index=index)"
      ]
    },
    {
      "cell_type": "code",
      "execution_count": 14,
      "metadata": {
        "colab": {
          "base_uri": "https://localhost:8080/",
          "height": 49,
          "referenced_widgets": [
            "ab83d37824e2416da9129376c2cb2eb9",
            "50e4e5d0e400428f9a14d9c2fd1c34d2",
            "4af54e4e188f477aa8c6ad46849315ce",
            "9af4bb60b327497d81b2fe61d2b3a86d",
            "0d33403910a9466c9aed15861fe03b2e",
            "3694bae021b54541bfb6218121ee66be",
            "cb882aea4ead482093ad7e3bf6c50488",
            "9250e8228d6e4ea2a24bb79ae3d15967",
            "e9fec174b65143359866a93da08cd509",
            "26e710497c7344b48f9859f746647ff6",
            "3b78295536a7444f9e566584a4f63596"
          ]
        },
        "id": "5bhgOzOaZJWd",
        "outputId": "77b2b961-d958-40ae-ae02-e3d24ed1b774"
      },
      "outputs": [
        {
          "data": {
            "application/vnd.jupyter.widget-view+json": {
              "model_id": "ab83d37824e2416da9129376c2cb2eb9",
              "version_major": 2,
              "version_minor": 0
            },
            "text/plain": [
              "  0%|          | 0/7 [00:00<?, ?it/s]"
            ]
          },
          "metadata": {},
          "output_type": "display_data"
        }
      ],
      "source": [
        "retriver.add_texts(chunks)"
      ]
    },
    {
      "cell_type": "code",
      "execution_count": 15,
      "metadata": {
        "colab": {
          "base_uri": "https://localhost:8080/"
        },
        "id": "qbBqrgrCaFod",
        "outputId": "87a4a176-8b64-44bb-99d6-a262af0caea7"
      },
      "outputs": [
        {
          "data": {
            "text/plain": [
              "[Document(page_content='sizes and reduced misorientation at grain boundaries. Furthermore,\\nsolution treatment alleviates residual stresses, fosters a uniform grain\\norientation, and induces changes in crystallographic texture, all of\\nwhich impact misorientation patterns and subsequently lower KAM\\nvalues.'),\n",
              " Document(page_content='3. Results and discussion\\n3.1. AR and ST samples\\nFigs. 2(a) and 2(b) show the optical microscopy (OM) images of the\\nas-received (AR) and solution-treated (ST) samples, respectively.\\nFollowing solution treatment at 800◦ C for 1 h, the ST sample reveals an\\naverage grain size ranging from 60 to 70 µm. Fig. 2(c) and (d) show the\\nND-IPF (normal direction -inverse pole figures) maps of the AR and ST'),\n",
              " Document(page_content='samples. The AR sample predominantly features deformed grains oriented along the rolling direction (RD), with a texture characterized by\\nthe alignment of (001) poles with the RD. However, microstructural\\nhomogenization caused by solution treatment leads to finer grain size\\nand texture modification with the preferred orientation becoming (111).'),\n",
              " Document(page_content='point underscored by Ivasishin et al. [12] in their characterization of the\\nmechanical properties of coil low-cost β-Ti (LCB-Ti). The coil was subjected to a solution treatment either in a conventional furnace at 820 ◦ C\\nfor 0.5 h, resulting in a β grain size of 90 µm, or by rapid heating to\\nachieve a β grain size of 20 µm. Subsequently, water quenching, cold')]"
            ]
          },
          "execution_count": 15,
          "metadata": {},
          "output_type": "execute_result"
        }
      ],
      "source": [
        "#keyword search 1\n",
        "retriver.invoke(\"solution treatment has average grain size ranging from\")\n",
        "#score:1"
      ]
    },
    {
      "cell_type": "code",
      "execution_count": 16,
      "metadata": {
        "colab": {
          "base_uri": "https://localhost:8080/"
        },
        "id": "iVkg2uAIaLfe",
        "outputId": "b125971b-33d8-4eda-c655-cbb1eeb823ea"
      },
      "outputs": [
        {
          "data": {
            "text/plain": [
              "[Document(page_content='CRediT authorship contribution statement\\nIsh Kumar Jha: Methodology, Investigation. Rajesh Kisni Khatirkar: Supervision, Investigation. Jaiveer Singh: Writing – review &\\nediting, Supervision, Conceptualization. Jaideep Gupta: Writing –\\noriginal draft, Investigation.\\nDeclaration of Competing Interest\\nI confirm that there is no conflict of interest.\\nData availability'),\n",
              " Document(page_content='of the dependence of mechanical properties on the resultant microstructure [33], [34]. In this work, techniques of optical microscopy,\\ntensile testing, EBSD, and fractography have been used to investigate the\\nrelationship between microstructural evolution and mechanical properties of Ti-15333 alloy. The current study shall contribute not only to a'),\n",
              " Document(page_content='stress on the surrounding matrix, contributing to additional misalignment of neighboring grains resulting in a wider spread of crystallographic orientation. The EBSD observation and analysis conducted\\nabove further validate the conclusions drawn from the microstructure\\nanalysis. Additionally, it indicates that the properties of the material are'),\n",
              " Document(page_content='defects such as grain boundaries or dislocations [48], [49]. Thermal\\ngradients during aging affect local supersaturation levels, influencing\\nnucleation and growth rates [50], while stress fields around precipitates\\ncontribute to anisotropic growth, further exacerbating non-uniformity\\n[51], [52]. Okada [31] also observed a similar trend, noting that as')]"
            ]
          },
          "execution_count": 16,
          "metadata": {},
          "output_type": "execute_result"
        }
      ],
      "source": [
        "#keyword search 2\n",
        "retriver.invoke(\"authorship contribution\")\n",
        "# score:1"
      ]
    },
    {
      "cell_type": "code",
      "execution_count": 17,
      "metadata": {
        "colab": {
          "base_uri": "https://localhost:8080/"
        },
        "id": "gtOTlgu7aY4o",
        "outputId": "b4ed34ca-8569-489b-f1a1-582593692b5f"
      },
      "outputs": [
        {
          "data": {
            "text/plain": [
              "[Document(page_content='8 h had a UTS of 1209 MPa and elongation of 10 %.\\nFurthermore, the sample aged at 500◦ C for 6 h exhibits an UTS of\\n1160 MPa, which rises to 1214 MPa after 9 h and 1392 MPa after 15 h\\n(see Fig. S2(a)). This corresponds to a 4.6 % and 20 % improvement for\\nthe 9 h and 15 h samples, respectively, compared to the 6 h sample. UTS\\nfor the sample aged at 550◦ C for 6 h is 1087 MPa, rising to 1255 MPa'),\n",
              " Document(page_content='mechanical investigation.\\nFor 6 h aged samples, there is a positive correlation between UTS and'),\n",
              " Document(page_content='J. Gupta et al.\\n\\nJournal of Alloys and Compounds 1004 (2024) 175803\\n\\nFig. 9. Variation of (a) UTS and (b) ductility of 3 h aged samples at various aging temperatures.\\n\\nFig. 10. Variation of (a) UTS and (b) ductility for 6 h aged samples at various aging temperatures.'),\n",
              " Document(page_content='improves both UTS and elongation, achieving a balance of strength\\nand ductility. At 500 ◦ C, the alloy reaches 1160 MPa UTS and 14 %\\nelongation. From 550 ◦ C to 700 ◦ C, UTS decreases from 1087 MPa to\\n717 MPa, while elongation rises from 15 % to 20 %. Samples aged\\nfor 3 h show similar trends. Extending aging from 3 h to 6 h results in')]"
            ]
          },
          "execution_count": 17,
          "metadata": {},
          "output_type": "execute_result"
        }
      ],
      "source": [
        "#keyword search 3\n",
        "retriver.invoke(\"sample aged at 500◦C for 6 h exhibits an UTS of\")\n",
        "# score:1"
      ]
    },
    {
      "cell_type": "code",
      "execution_count": 55,
      "metadata": {
        "colab": {
          "base_uri": "https://localhost:8080/",
          "height": 304
        },
        "id": "G28YcxyaCFm2",
        "outputId": "0ce97d44-7012-4f18-b483-478e2386db83"
      },
      "outputs": [
        {
          "ename": "AttributeError",
          "evalue": "'NoneType' object has no attribute 'encode_queries'",
          "output_type": "error",
          "traceback": [
            "\u001b[0;31m---------------------------------------------------------------------------\u001b[0m",
            "\u001b[0;31mAttributeError\u001b[0m                            Traceback (most recent call last)",
            "\u001b[0;32m<ipython-input-55-1f3bd95fa8d6>\u001b[0m in \u001b[0;36m<cell line: 2>\u001b[0;34m()\u001b[0m\n\u001b[1;32m      1\u001b[0m \u001b[0;31m#keyword search 4\u001b[0m\u001b[0;34m\u001b[0m\u001b[0;34m\u001b[0m\u001b[0m\n\u001b[0;32m----> 2\u001b[0;31m \u001b[0mretriver\u001b[0m\u001b[0;34m.\u001b[0m\u001b[0minvoke\u001b[0m\u001b[0;34m(\u001b[0m\u001b[0;34m\"The main aim of this study is \"\u001b[0m\u001b[0;34m)\u001b[0m\u001b[0;34m\u001b[0m\u001b[0;34m\u001b[0m\u001b[0m\n\u001b[0m",
            "\u001b[0;32m/usr/local/lib/python3.10/dist-packages/langchain_core/retrievers.py\u001b[0m in \u001b[0;36minvoke\u001b[0;34m(self, input, config, **kwargs)\u001b[0m\n\u001b[1;32m    249\u001b[0m         \u001b[0;32mexcept\u001b[0m \u001b[0mException\u001b[0m \u001b[0;32mas\u001b[0m \u001b[0me\u001b[0m\u001b[0;34m:\u001b[0m\u001b[0;34m\u001b[0m\u001b[0;34m\u001b[0m\u001b[0m\n\u001b[1;32m    250\u001b[0m             \u001b[0mrun_manager\u001b[0m\u001b[0;34m.\u001b[0m\u001b[0mon_retriever_error\u001b[0m\u001b[0;34m(\u001b[0m\u001b[0me\u001b[0m\u001b[0;34m)\u001b[0m\u001b[0;34m\u001b[0m\u001b[0;34m\u001b[0m\u001b[0m\n\u001b[0;32m--> 251\u001b[0;31m             \u001b[0;32mraise\u001b[0m \u001b[0me\u001b[0m\u001b[0;34m\u001b[0m\u001b[0;34m\u001b[0m\u001b[0m\n\u001b[0m\u001b[1;32m    252\u001b[0m         \u001b[0;32melse\u001b[0m\u001b[0;34m:\u001b[0m\u001b[0;34m\u001b[0m\u001b[0;34m\u001b[0m\u001b[0m\n\u001b[1;32m    253\u001b[0m             run_manager.on_retriever_end(\n",
            "\u001b[0;32m/usr/local/lib/python3.10/dist-packages/langchain_core/retrievers.py\u001b[0m in \u001b[0;36minvoke\u001b[0;34m(self, input, config, **kwargs)\u001b[0m\n\u001b[1;32m    242\u001b[0m             \u001b[0m_kwargs\u001b[0m \u001b[0;34m=\u001b[0m \u001b[0mkwargs\u001b[0m \u001b[0;32mif\u001b[0m \u001b[0mself\u001b[0m\u001b[0;34m.\u001b[0m\u001b[0m_expects_other_args\u001b[0m \u001b[0;32melse\u001b[0m \u001b[0;34m{\u001b[0m\u001b[0;34m}\u001b[0m\u001b[0;34m\u001b[0m\u001b[0;34m\u001b[0m\u001b[0m\n\u001b[1;32m    243\u001b[0m             \u001b[0;32mif\u001b[0m \u001b[0mself\u001b[0m\u001b[0;34m.\u001b[0m\u001b[0m_new_arg_supported\u001b[0m\u001b[0;34m:\u001b[0m\u001b[0;34m\u001b[0m\u001b[0;34m\u001b[0m\u001b[0m\n\u001b[0;32m--> 244\u001b[0;31m                 result = self._get_relevant_documents(\n\u001b[0m\u001b[1;32m    245\u001b[0m                     \u001b[0minput\u001b[0m\u001b[0;34m,\u001b[0m \u001b[0mrun_manager\u001b[0m\u001b[0;34m=\u001b[0m\u001b[0mrun_manager\u001b[0m\u001b[0;34m,\u001b[0m \u001b[0;34m**\u001b[0m\u001b[0m_kwargs\u001b[0m\u001b[0;34m\u001b[0m\u001b[0;34m\u001b[0m\u001b[0m\n\u001b[1;32m    246\u001b[0m                 )\n",
            "\u001b[0;32m/usr/local/lib/python3.10/dist-packages/langchain_community/retrievers/pinecone_hybrid_search.py\u001b[0m in \u001b[0;36m_get_relevant_documents\u001b[0;34m(self, query, run_manager, **kwargs)\u001b[0m\n\u001b[1;32m    155\u001b[0m         \u001b[0;32mfrom\u001b[0m \u001b[0mpinecone_text\u001b[0m\u001b[0;34m.\u001b[0m\u001b[0mhybrid\u001b[0m \u001b[0;32mimport\u001b[0m \u001b[0mhybrid_convex_scale\u001b[0m\u001b[0;34m\u001b[0m\u001b[0;34m\u001b[0m\u001b[0m\n\u001b[1;32m    156\u001b[0m \u001b[0;34m\u001b[0m\u001b[0m\n\u001b[0;32m--> 157\u001b[0;31m         \u001b[0msparse_vec\u001b[0m \u001b[0;34m=\u001b[0m \u001b[0mself\u001b[0m\u001b[0;34m.\u001b[0m\u001b[0msparse_encoder\u001b[0m\u001b[0;34m.\u001b[0m\u001b[0mencode_queries\u001b[0m\u001b[0;34m(\u001b[0m\u001b[0mquery\u001b[0m\u001b[0;34m)\u001b[0m\u001b[0;34m\u001b[0m\u001b[0;34m\u001b[0m\u001b[0m\n\u001b[0m\u001b[1;32m    158\u001b[0m         \u001b[0;31m# convert the question into a dense vector\u001b[0m\u001b[0;34m\u001b[0m\u001b[0;34m\u001b[0m\u001b[0m\n\u001b[1;32m    159\u001b[0m         \u001b[0mdense_vec\u001b[0m \u001b[0;34m=\u001b[0m \u001b[0mself\u001b[0m\u001b[0;34m.\u001b[0m\u001b[0membeddings\u001b[0m\u001b[0;34m.\u001b[0m\u001b[0membed_query\u001b[0m\u001b[0;34m(\u001b[0m\u001b[0mquery\u001b[0m\u001b[0;34m)\u001b[0m\u001b[0;34m\u001b[0m\u001b[0;34m\u001b[0m\u001b[0m\n",
            "\u001b[0;31mAttributeError\u001b[0m: 'NoneType' object has no attribute 'encode_queries'"
          ]
        }
      ],
      "source": [
        "#keyword search 4\n",
        "retriver.invoke(\"The main aim of this study is \")\n",
        "# score:1"
      ]
    },
    {
      "cell_type": "code",
      "execution_count": 19,
      "metadata": {
        "colab": {
          "base_uri": "https://localhost:8080/"
        },
        "id": "qPvT5y39CVdB",
        "outputId": "f862a63e-63b0-4abd-cfff-da98e24036cd"
      },
      "outputs": [
        {
          "data": {
            "text/plain": [
              "[Document(page_content='Fig. 1. Thermomechanical processing of Ti-15333 alloy used in this study.'),\n",
              " Document(page_content='of the dependence of mechanical properties on the resultant microstructure [33], [34]. In this work, techniques of optical microscopy,\\ntensile testing, EBSD, and fractography have been used to investigate the\\nrelationship between microstructural evolution and mechanical properties of Ti-15333 alloy. The current study shall contribute not only to a'),\n",
              " Document(page_content='[10] O.M. Ivasishin, P.E. Markovsky, Y.V. Matviychuk, S.L. Semiatin, C.H. Ward, S. Fox,\\nA comparative study of the mechanical properties of high-strength β-titanium\\nalloys, J. Alloy. Compd. 457 (2008) 296–309, https://doi.org/10.1016/j.\\njallcom.2007.03.070.'),\n",
              " Document(page_content='This study aims to investigate the mechanical behaviors of Ti–15 V–3Cr–3Al–3Sn (Ti-15333), a metastable β\\ntitanium alloy. Thermomechanical processing of the alloy sheet in its as-received state included solution treatment at 800◦ C, followed by varying aging temperatures from 450◦ C to 700◦ C. As the aging temperature rises, α')]"
            ]
          },
          "execution_count": 19,
          "metadata": {},
          "output_type": "execute_result"
        }
      ],
      "source": [
        "#keyword search 5\n",
        "retriver.invoke(\"what is the alloy used in this study ?\")\n",
        "# score:1"
      ]
    },
    {
      "cell_type": "code",
      "execution_count": 20,
      "metadata": {
        "colab": {
          "base_uri": "https://localhost:8080/"
        },
        "id": "skGK2ntGCfv8",
        "outputId": "288dc239-089b-45d5-89ea-02e4e2d38afe"
      },
      "outputs": [
        {
          "data": {
            "text/plain": [
              "[Document(page_content='Fig. 1. Thermomechanical processing of Ti-15333 alloy used in this study.'),\n",
              " Document(page_content='of the dependence of mechanical properties on the resultant microstructure [33], [34]. In this work, techniques of optical microscopy,\\ntensile testing, EBSD, and fractography have been used to investigate the\\nrelationship between microstructural evolution and mechanical properties of Ti-15333 alloy. The current study shall contribute not only to a'),\n",
              " Document(page_content='[10] O.M. Ivasishin, P.E. Markovsky, Y.V. Matviychuk, S.L. Semiatin, C.H. Ward, S. Fox,\\nA comparative study of the mechanical properties of high-strength β-titanium\\nalloys, J. Alloy. Compd. 457 (2008) 296–309, https://doi.org/10.1016/j.\\njallcom.2007.03.070.'),\n",
              " Document(page_content='This study aims to investigate the mechanical behaviors of Ti–15 V–3Cr–3Al–3Sn (Ti-15333), a metastable β\\ntitanium alloy. Thermomechanical processing of the alloy sheet in its as-received state included solution treatment at 800◦ C, followed by varying aging temperatures from 450◦ C to 700◦ C. As the aging temperature rises, α')]"
            ]
          },
          "execution_count": 20,
          "metadata": {},
          "output_type": "execute_result"
        }
      ],
      "source": [
        "#semantic search 1\n",
        "retriver.invoke(\"what is the alloy used in this study ?\")\n",
        "# score:1"
      ]
    },
    {
      "cell_type": "code",
      "execution_count": 21,
      "metadata": {
        "colab": {
          "base_uri": "https://localhost:8080/"
        },
        "id": "XRr4Wl6tC2DL",
        "outputId": "12fbb886-aa9e-45e6-babe-2c3bd2f7fddd"
      },
      "outputs": [
        {
          "data": {
            "text/plain": [
              "[Document(page_content='4. While aged samples show random texture, the average KAM value\\nshows an increase with both the aging temperature and duration,\\npeaking in samples aged for 6 h at 500 ◦ C and 550 ◦ C. This is due to\\nthe presence of an optimized microstructure at these temperatures,\\nfeaturing a substantial amount of well-distributed α phase that can'),\n",
              " Document(page_content='on the microstructural alterations associated with aging and precipitation. Fig. 14 (a) and (b) illustrate the change in KAM value at different\\naging temperatures for 3 h and 6 h respectively. As the aging time'),\n",
              " Document(page_content='improve its strength, the aging process is used to precipitate the secondary α phase evenly throughout the microstructure.\\nFigs. 3 and 4 show the microstructures of Ti-15333 alloy as a function of time and temperature. These microstructures were obtained by\\nperforming a super transus solution treatment at a temperature of\\n800 ◦ C (with βt for Ti-15333 being 760 ◦ C) for 1 h, followed by an aging'),\n",
              " Document(page_content='of aging on the evolution of microstructure and its effect on the mechanical properties. Initially, the sheet was hot rolled above its BetaTransus temperature (Tβ) i.e. 760◦ C to retain the β phase and to prevent any phase transformation. The entire thermomechanical processing\\nof Ti-15333 alloy used in this study is shown in Fig. 1. To prepare for')]"
            ]
          },
          "execution_count": 21,
          "metadata": {},
          "output_type": "execute_result"
        }
      ],
      "source": [
        "#semantic search 2\n",
        "retriver.invoke(\"what is effect of aging temperature on microstructure of the sample ?\")\n",
        "# score:1"
      ]
    },
    {
      "cell_type": "code",
      "execution_count": 22,
      "metadata": {
        "colab": {
          "base_uri": "https://localhost:8080/"
        },
        "id": "Jyu-LzG9DKnm",
        "outputId": "d869b4c2-4ae2-4bb6-fe92-473378b9b420"
      },
      "outputs": [
        {
          "data": {
            "text/plain": [
              "[Document(page_content='of the dependence of mechanical properties on the resultant microstructure [33], [34]. In this work, techniques of optical microscopy,\\ntensile testing, EBSD, and fractography have been used to investigate the\\nrelationship between microstructural evolution and mechanical properties of Ti-15333 alloy. The current study shall contribute not only to a'),\n",
              " Document(page_content='3.5. Fractography\\nThe fracture appearance of Ti 15333 is closely correlated with the\\nmicrostructure of the alloy. Fig. 15 shows the different fracture features\\nobserved in AR, ST, and aged tensile-tested samples. During the examination of AR and ST alloys, it was observed that the fracture surfaces'),\n",
              " Document(page_content='Fig. 16 shows a magnified fractograph of 500 ◦ C 6 h aged fractured\\ntensile sample, SEM image reveals a periodic pattern of dimples and\\ncleavage, with evenly distributed cleavage facets across the surface,\\nwhich may have contributed to its higher ductility. This result is\\nconsistent with a study by Ma and Wang [65] on Ti-15333, which'),\n",
              " Document(page_content='stress on the surrounding matrix, contributing to additional misalignment of neighboring grains resulting in a wider spread of crystallographic orientation. The EBSD observation and analysis conducted\\nabove further validate the conclusions drawn from the microstructure\\nanalysis. Additionally, it indicates that the properties of the material are')]"
            ]
          },
          "execution_count": 22,
          "metadata": {},
          "output_type": "execute_result"
        }
      ],
      "source": [
        "#semantic search 3\n",
        "retriver.invoke(\"what are the main fractography results of this study \")\n",
        "# score:1"
      ]
    },
    {
      "cell_type": "code",
      "execution_count": 23,
      "metadata": {
        "colab": {
          "base_uri": "https://localhost:8080/"
        },
        "id": "n-Yl_Vu0Dfdr",
        "outputId": "948c1b28-63b4-4aef-eb3d-5dd62f8e480c"
      },
      "outputs": [
        {
          "data": {
            "text/plain": [
              "[Document(page_content='of the dependence of mechanical properties on the resultant microstructure [33], [34]. In this work, techniques of optical microscopy,\\ntensile testing, EBSD, and fractography have been used to investigate the\\nrelationship between microstructural evolution and mechanical properties of Ti-15333 alloy. The current study shall contribute not only to a'),\n",
              " Document(page_content='CRediT authorship contribution statement\\nIsh Kumar Jha: Methodology, Investigation. Rajesh Kisni Khatirkar: Supervision, Investigation. Jaiveer Singh: Writing – review &\\nediting, Supervision, Conceptualization. Jaideep Gupta: Writing –\\noriginal draft, Investigation.\\nDeclaration of Competing Interest\\nI confirm that there is no conflict of interest.\\nData availability'),\n",
              " Document(page_content='I confirm that there is no conflict of interest.\\nData availability\\nWe have included all the data used in this study'),\n",
              " Document(page_content='Fig. 16 shows a magnified fractograph of 500 ◦ C 6 h aged fractured\\ntensile sample, SEM image reveals a periodic pattern of dimples and\\ncleavage, with evenly distributed cleavage facets across the surface,\\nwhich may have contributed to its higher ductility. This result is\\nconsistent with a study by Ma and Wang [65] on Ti-15333, which')]"
            ]
          },
          "execution_count": 23,
          "metadata": {},
          "output_type": "execute_result"
        }
      ],
      "source": [
        "#semantic search 4\n",
        "retriver.invoke(\"who all are the authors and what are their contributions to this study ? \")\n",
        "# score:0.5"
      ]
    },
    {
      "cell_type": "code",
      "execution_count": 24,
      "metadata": {
        "colab": {
          "base_uri": "https://localhost:8080/"
        },
        "id": "oF1h7Gd0DzRj",
        "outputId": "049a4df5-57b3-49a7-b536-f3f39e06a02c"
      },
      "outputs": [
        {
          "data": {
            "text/plain": [
              "[Document(page_content='through a variety of heat treatments and hot working techniques [8],\\n[9]. This typically involves a sequence of steps, including\\nthermo-mechanical processing, followed by solution treatment and\\naging. Modifying the processing, solutionizing, or aging temperatures'),\n",
              " Document(page_content='Fig. 1. Thermomechanical processing of Ti-15333 alloy used in this study.'),\n",
              " Document(page_content='of aging on the evolution of microstructure and its effect on the mechanical properties. Initially, the sheet was hot rolled above its BetaTransus temperature (Tβ) i.e. 760◦ C to retain the β phase and to prevent any phase transformation. The entire thermomechanical processing\\nof Ti-15333 alloy used in this study is shown in Fig. 1. To prepare for'),\n",
              " Document(page_content='and aging, a horizontal tube furnace (Swam Equip, Chennai) was used in\\nan environment purged with argon gas to prevent oxidation. The target\\ntemperature was reached by heating at a rate of 5 ◦ C per minute, and the\\ntemperature was held steady within ± 1 ◦ C during the entire process.\\nOptical microscopy (OM) was used to examine the microstructures of\\n2')]"
            ]
          },
          "execution_count": 24,
          "metadata": {},
          "output_type": "execute_result"
        }
      ],
      "source": [
        "#semantic search 5\n",
        "retriver.invoke(\"what are the step involved in the thermochemical processing ? \")\n",
        "\n",
        "# score:1"
      ]
    },
    {
      "cell_type": "markdown",
      "metadata": {
        "id": "r-xeQfrMGGYy"
      },
      "source": [
        "Semantic search"
      ]
    },
    {
      "cell_type": "code",
      "execution_count": 29,
      "metadata": {
        "colab": {
          "base_uri": "https://localhost:8080/"
        },
        "id": "YHU5Sf8xLw0k",
        "outputId": "eada7226-7cea-4cc7-f11a-4575d83f4931"
      },
      "outputs": [
        {
          "name": "stdout",
          "output_type": "stream",
          "text": [
            "Requirement already satisfied: langchain in /usr/local/lib/python3.10/dist-packages (0.2.13)\n",
            "Requirement already satisfied: langchain-community in /usr/local/lib/python3.10/dist-packages (0.2.12)\n",
            "Requirement already satisfied: PyYAML>=5.3 in /usr/local/lib/python3.10/dist-packages (from langchain) (6.0.2)\n",
            "Requirement already satisfied: SQLAlchemy<3,>=1.4 in /usr/local/lib/python3.10/dist-packages (from langchain) (2.0.32)\n",
            "Requirement already satisfied: aiohttp<4.0.0,>=3.8.3 in /usr/local/lib/python3.10/dist-packages (from langchain) (3.10.1)\n",
            "Requirement already satisfied: async-timeout<5.0.0,>=4.0.0 in /usr/local/lib/python3.10/dist-packages (from langchain) (4.0.3)\n",
            "Requirement already satisfied: langchain-core<0.3.0,>=0.2.30 in /usr/local/lib/python3.10/dist-packages (from langchain) (0.2.30)\n",
            "Requirement already satisfied: langchain-text-splitters<0.3.0,>=0.2.0 in /usr/local/lib/python3.10/dist-packages (from langchain) (0.2.2)\n",
            "Requirement already satisfied: langsmith<0.2.0,>=0.1.17 in /usr/local/lib/python3.10/dist-packages (from langchain) (0.1.99)\n",
            "Requirement already satisfied: numpy<2,>=1 in /usr/local/lib/python3.10/dist-packages (from langchain) (1.26.4)\n",
            "Requirement already satisfied: pydantic<3,>=1 in /usr/local/lib/python3.10/dist-packages (from langchain) (2.8.2)\n",
            "Requirement already satisfied: requests<3,>=2 in /usr/local/lib/python3.10/dist-packages (from langchain) (2.32.3)\n",
            "Requirement already satisfied: tenacity!=8.4.0,<9.0.0,>=8.1.0 in /usr/local/lib/python3.10/dist-packages (from langchain) (8.5.0)\n",
            "Requirement already satisfied: dataclasses-json<0.7,>=0.5.7 in /usr/local/lib/python3.10/dist-packages (from langchain-community) (0.6.7)\n",
            "Requirement already satisfied: aiohappyeyeballs>=2.3.0 in /usr/local/lib/python3.10/dist-packages (from aiohttp<4.0.0,>=3.8.3->langchain) (2.3.4)\n",
            "Requirement already satisfied: aiosignal>=1.1.2 in /usr/local/lib/python3.10/dist-packages (from aiohttp<4.0.0,>=3.8.3->langchain) (1.3.1)\n",
            "Requirement already satisfied: attrs>=17.3.0 in /usr/local/lib/python3.10/dist-packages (from aiohttp<4.0.0,>=3.8.3->langchain) (24.2.0)\n",
            "Requirement already satisfied: frozenlist>=1.1.1 in /usr/local/lib/python3.10/dist-packages (from aiohttp<4.0.0,>=3.8.3->langchain) (1.4.1)\n",
            "Requirement already satisfied: multidict<7.0,>=4.5 in /usr/local/lib/python3.10/dist-packages (from aiohttp<4.0.0,>=3.8.3->langchain) (6.0.5)\n",
            "Requirement already satisfied: yarl<2.0,>=1.0 in /usr/local/lib/python3.10/dist-packages (from aiohttp<4.0.0,>=3.8.3->langchain) (1.9.4)\n",
            "Requirement already satisfied: marshmallow<4.0.0,>=3.18.0 in /usr/local/lib/python3.10/dist-packages (from dataclasses-json<0.7,>=0.5.7->langchain-community) (3.21.3)\n",
            "Requirement already satisfied: typing-inspect<1,>=0.4.0 in /usr/local/lib/python3.10/dist-packages (from dataclasses-json<0.7,>=0.5.7->langchain-community) (0.9.0)\n",
            "Requirement already satisfied: jsonpatch<2.0,>=1.33 in /usr/local/lib/python3.10/dist-packages (from langchain-core<0.3.0,>=0.2.30->langchain) (1.33)\n",
            "Requirement already satisfied: packaging<25,>=23.2 in /usr/local/lib/python3.10/dist-packages (from langchain-core<0.3.0,>=0.2.30->langchain) (24.1)\n",
            "Requirement already satisfied: typing-extensions>=4.7 in /usr/local/lib/python3.10/dist-packages (from langchain-core<0.3.0,>=0.2.30->langchain) (4.12.2)\n",
            "Requirement already satisfied: orjson<4.0.0,>=3.9.14 in /usr/local/lib/python3.10/dist-packages (from langsmith<0.2.0,>=0.1.17->langchain) (3.10.7)\n",
            "Requirement already satisfied: annotated-types>=0.4.0 in /usr/local/lib/python3.10/dist-packages (from pydantic<3,>=1->langchain) (0.7.0)\n",
            "Requirement already satisfied: pydantic-core==2.20.1 in /usr/local/lib/python3.10/dist-packages (from pydantic<3,>=1->langchain) (2.20.1)\n",
            "Requirement already satisfied: charset-normalizer<4,>=2 in /usr/local/lib/python3.10/dist-packages (from requests<3,>=2->langchain) (3.3.2)\n",
            "Requirement already satisfied: idna<4,>=2.5 in /usr/local/lib/python3.10/dist-packages (from requests<3,>=2->langchain) (3.7)\n",
            "Requirement already satisfied: urllib3<3,>=1.21.1 in /usr/local/lib/python3.10/dist-packages (from requests<3,>=2->langchain) (2.0.7)\n",
            "Requirement already satisfied: certifi>=2017.4.17 in /usr/local/lib/python3.10/dist-packages (from requests<3,>=2->langchain) (2024.7.4)\n",
            "Requirement already satisfied: greenlet!=0.4.17 in /usr/local/lib/python3.10/dist-packages (from SQLAlchemy<3,>=1.4->langchain) (3.0.3)\n",
            "Requirement already satisfied: jsonpointer>=1.9 in /usr/local/lib/python3.10/dist-packages (from jsonpatch<2.0,>=1.33->langchain-core<0.3.0,>=0.2.30->langchain) (3.0.0)\n",
            "Requirement already satisfied: mypy-extensions>=0.3.0 in /usr/local/lib/python3.10/dist-packages (from typing-inspect<1,>=0.4.0->dataclasses-json<0.7,>=0.5.7->langchain-community) (1.0.0)\n"
          ]
        }
      ],
      "source": [
        "!pip install langchain langchain-community"
      ]
    },
    {
      "cell_type": "code",
      "execution_count": 32,
      "metadata": {
        "colab": {
          "base_uri": "https://localhost:8080/"
        },
        "id": "rs44yKINM5Dn",
        "outputId": "27f6da6b-f773-4aa7-b50a-837ae7fba066"
      },
      "outputs": [
        {
          "name": "stdout",
          "output_type": "stream",
          "text": [
            "Collecting langchain-pinecone\n",
            "  Downloading langchain_pinecone-0.1.3-py3-none-any.whl.metadata (1.7 kB)\n",
            "Requirement already satisfied: aiohttp<4.0.0,>=3.9.5 in /usr/local/lib/python3.10/dist-packages (from langchain-pinecone) (3.10.1)\n",
            "Requirement already satisfied: langchain-core<0.3,>=0.1.52 in /usr/local/lib/python3.10/dist-packages (from langchain-pinecone) (0.2.30)\n",
            "Requirement already satisfied: numpy<2,>=1 in /usr/local/lib/python3.10/dist-packages (from langchain-pinecone) (1.26.4)\n",
            "Requirement already satisfied: pinecone-client<6.0.0,>=5.0.0 in /usr/local/lib/python3.10/dist-packages (from langchain-pinecone) (5.0.1)\n",
            "Requirement already satisfied: aiohappyeyeballs>=2.3.0 in /usr/local/lib/python3.10/dist-packages (from aiohttp<4.0.0,>=3.9.5->langchain-pinecone) (2.3.4)\n",
            "Requirement already satisfied: aiosignal>=1.1.2 in /usr/local/lib/python3.10/dist-packages (from aiohttp<4.0.0,>=3.9.5->langchain-pinecone) (1.3.1)\n",
            "Requirement already satisfied: attrs>=17.3.0 in /usr/local/lib/python3.10/dist-packages (from aiohttp<4.0.0,>=3.9.5->langchain-pinecone) (24.2.0)\n",
            "Requirement already satisfied: frozenlist>=1.1.1 in /usr/local/lib/python3.10/dist-packages (from aiohttp<4.0.0,>=3.9.5->langchain-pinecone) (1.4.1)\n",
            "Requirement already satisfied: multidict<7.0,>=4.5 in /usr/local/lib/python3.10/dist-packages (from aiohttp<4.0.0,>=3.9.5->langchain-pinecone) (6.0.5)\n",
            "Requirement already satisfied: yarl<2.0,>=1.0 in /usr/local/lib/python3.10/dist-packages (from aiohttp<4.0.0,>=3.9.5->langchain-pinecone) (1.9.4)\n",
            "Requirement already satisfied: async-timeout<5.0,>=4.0 in /usr/local/lib/python3.10/dist-packages (from aiohttp<4.0.0,>=3.9.5->langchain-pinecone) (4.0.3)\n",
            "Requirement already satisfied: PyYAML>=5.3 in /usr/local/lib/python3.10/dist-packages (from langchain-core<0.3,>=0.1.52->langchain-pinecone) (6.0.2)\n",
            "Requirement already satisfied: jsonpatch<2.0,>=1.33 in /usr/local/lib/python3.10/dist-packages (from langchain-core<0.3,>=0.1.52->langchain-pinecone) (1.33)\n",
            "Requirement already satisfied: langsmith<0.2.0,>=0.1.75 in /usr/local/lib/python3.10/dist-packages (from langchain-core<0.3,>=0.1.52->langchain-pinecone) (0.1.99)\n",
            "Requirement already satisfied: packaging<25,>=23.2 in /usr/local/lib/python3.10/dist-packages (from langchain-core<0.3,>=0.1.52->langchain-pinecone) (24.1)\n",
            "Requirement already satisfied: pydantic<3,>=1 in /usr/local/lib/python3.10/dist-packages (from langchain-core<0.3,>=0.1.52->langchain-pinecone) (2.8.2)\n",
            "Requirement already satisfied: tenacity!=8.4.0,<9.0.0,>=8.1.0 in /usr/local/lib/python3.10/dist-packages (from langchain-core<0.3,>=0.1.52->langchain-pinecone) (8.5.0)\n",
            "Requirement already satisfied: typing-extensions>=4.7 in /usr/local/lib/python3.10/dist-packages (from langchain-core<0.3,>=0.1.52->langchain-pinecone) (4.12.2)\n",
            "Requirement already satisfied: certifi>=2019.11.17 in /usr/local/lib/python3.10/dist-packages (from pinecone-client<6.0.0,>=5.0.0->langchain-pinecone) (2024.7.4)\n",
            "Requirement already satisfied: pinecone-plugin-inference<2.0.0,>=1.0.3 in /usr/local/lib/python3.10/dist-packages (from pinecone-client<6.0.0,>=5.0.0->langchain-pinecone) (1.0.3)\n",
            "Requirement already satisfied: pinecone-plugin-interface<0.0.8,>=0.0.7 in /usr/local/lib/python3.10/dist-packages (from pinecone-client<6.0.0,>=5.0.0->langchain-pinecone) (0.0.7)\n",
            "Requirement already satisfied: tqdm>=4.64.1 in /usr/local/lib/python3.10/dist-packages (from pinecone-client<6.0.0,>=5.0.0->langchain-pinecone) (4.66.5)\n",
            "Requirement already satisfied: urllib3>=1.26.0 in /usr/local/lib/python3.10/dist-packages (from pinecone-client<6.0.0,>=5.0.0->langchain-pinecone) (2.0.7)\n",
            "Requirement already satisfied: jsonpointer>=1.9 in /usr/local/lib/python3.10/dist-packages (from jsonpatch<2.0,>=1.33->langchain-core<0.3,>=0.1.52->langchain-pinecone) (3.0.0)\n",
            "Requirement already satisfied: orjson<4.0.0,>=3.9.14 in /usr/local/lib/python3.10/dist-packages (from langsmith<0.2.0,>=0.1.75->langchain-core<0.3,>=0.1.52->langchain-pinecone) (3.10.7)\n",
            "Requirement already satisfied: requests<3,>=2 in /usr/local/lib/python3.10/dist-packages (from langsmith<0.2.0,>=0.1.75->langchain-core<0.3,>=0.1.52->langchain-pinecone) (2.32.3)\n",
            "Requirement already satisfied: annotated-types>=0.4.0 in /usr/local/lib/python3.10/dist-packages (from pydantic<3,>=1->langchain-core<0.3,>=0.1.52->langchain-pinecone) (0.7.0)\n",
            "Requirement already satisfied: pydantic-core==2.20.1 in /usr/local/lib/python3.10/dist-packages (from pydantic<3,>=1->langchain-core<0.3,>=0.1.52->langchain-pinecone) (2.20.1)\n",
            "Requirement already satisfied: idna>=2.0 in /usr/local/lib/python3.10/dist-packages (from yarl<2.0,>=1.0->aiohttp<4.0.0,>=3.9.5->langchain-pinecone) (3.7)\n",
            "Requirement already satisfied: charset-normalizer<4,>=2 in /usr/local/lib/python3.10/dist-packages (from requests<3,>=2->langsmith<0.2.0,>=0.1.75->langchain-core<0.3,>=0.1.52->langchain-pinecone) (3.3.2)\n",
            "Downloading langchain_pinecone-0.1.3-py3-none-any.whl (10 kB)\n",
            "Installing collected packages: langchain-pinecone\n",
            "Successfully installed langchain-pinecone-0.1.3\n"
          ]
        }
      ],
      "source": [
        "pip install --upgrade langchain-pinecone\n"
      ]
    },
    {
      "cell_type": "code",
      "execution_count": 34,
      "metadata": {
        "id": "HVuijNhtIU4y"
      },
      "outputs": [],
      "source": [
        "from pinecone import Pinecone, ServerlessSpec\n",
        "index_name=\"pinecone-hybrid-research-paper-semantic\"\n",
        "pc=Pinecone(api_key=pinecone_api)\n",
        "pc.create_index(\n",
        "    name=index_name,\n",
        "    dimension=768,\n",
        "    metric=\"cosine\",\n",
        "    spec=ServerlessSpec(\n",
        "       cloud=\"aws\",\n",
        "       region=\"us-east-1\"\n",
        "    )\n",
        ")\n",
        "index=pc.Index(index_name)\n",
        "\n"
      ]
    },
    {
      "cell_type": "code",
      "execution_count": 37,
      "metadata": {
        "colab": {
          "base_uri": "https://localhost:8080/"
        },
        "id": "GP7nzFn7NdRm",
        "outputId": "724e05cc-51ae-4453-c9b8-d74f99378023"
      },
      "outputs": [
        {
          "name": "stdout",
          "output_type": "stream",
          "text": [
            "Requirement already satisfied: langchain-pinecone in /usr/local/lib/python3.10/dist-packages (0.1.3)\n",
            "Requirement already satisfied: aiohttp<4.0.0,>=3.9.5 in /usr/local/lib/python3.10/dist-packages (from langchain-pinecone) (3.10.1)\n",
            "Requirement already satisfied: langchain-core<0.3,>=0.1.52 in /usr/local/lib/python3.10/dist-packages (from langchain-pinecone) (0.2.30)\n",
            "Requirement already satisfied: numpy<2,>=1 in /usr/local/lib/python3.10/dist-packages (from langchain-pinecone) (1.26.4)\n",
            "Requirement already satisfied: pinecone-client<6.0.0,>=5.0.0 in /usr/local/lib/python3.10/dist-packages (from langchain-pinecone) (5.0.1)\n",
            "Requirement already satisfied: aiohappyeyeballs>=2.3.0 in /usr/local/lib/python3.10/dist-packages (from aiohttp<4.0.0,>=3.9.5->langchain-pinecone) (2.3.4)\n",
            "Requirement already satisfied: aiosignal>=1.1.2 in /usr/local/lib/python3.10/dist-packages (from aiohttp<4.0.0,>=3.9.5->langchain-pinecone) (1.3.1)\n",
            "Requirement already satisfied: attrs>=17.3.0 in /usr/local/lib/python3.10/dist-packages (from aiohttp<4.0.0,>=3.9.5->langchain-pinecone) (24.2.0)\n",
            "Requirement already satisfied: frozenlist>=1.1.1 in /usr/local/lib/python3.10/dist-packages (from aiohttp<4.0.0,>=3.9.5->langchain-pinecone) (1.4.1)\n",
            "Requirement already satisfied: multidict<7.0,>=4.5 in /usr/local/lib/python3.10/dist-packages (from aiohttp<4.0.0,>=3.9.5->langchain-pinecone) (6.0.5)\n",
            "Requirement already satisfied: yarl<2.0,>=1.0 in /usr/local/lib/python3.10/dist-packages (from aiohttp<4.0.0,>=3.9.5->langchain-pinecone) (1.9.4)\n",
            "Requirement already satisfied: async-timeout<5.0,>=4.0 in /usr/local/lib/python3.10/dist-packages (from aiohttp<4.0.0,>=3.9.5->langchain-pinecone) (4.0.3)\n",
            "Requirement already satisfied: PyYAML>=5.3 in /usr/local/lib/python3.10/dist-packages (from langchain-core<0.3,>=0.1.52->langchain-pinecone) (6.0.2)\n",
            "Requirement already satisfied: jsonpatch<2.0,>=1.33 in /usr/local/lib/python3.10/dist-packages (from langchain-core<0.3,>=0.1.52->langchain-pinecone) (1.33)\n",
            "Requirement already satisfied: langsmith<0.2.0,>=0.1.75 in /usr/local/lib/python3.10/dist-packages (from langchain-core<0.3,>=0.1.52->langchain-pinecone) (0.1.99)\n",
            "Requirement already satisfied: packaging<25,>=23.2 in /usr/local/lib/python3.10/dist-packages (from langchain-core<0.3,>=0.1.52->langchain-pinecone) (24.1)\n",
            "Requirement already satisfied: pydantic<3,>=1 in /usr/local/lib/python3.10/dist-packages (from langchain-core<0.3,>=0.1.52->langchain-pinecone) (2.8.2)\n",
            "Requirement already satisfied: tenacity!=8.4.0,<9.0.0,>=8.1.0 in /usr/local/lib/python3.10/dist-packages (from langchain-core<0.3,>=0.1.52->langchain-pinecone) (8.5.0)\n",
            "Requirement already satisfied: typing-extensions>=4.7 in /usr/local/lib/python3.10/dist-packages (from langchain-core<0.3,>=0.1.52->langchain-pinecone) (4.12.2)\n",
            "Requirement already satisfied: certifi>=2019.11.17 in /usr/local/lib/python3.10/dist-packages (from pinecone-client<6.0.0,>=5.0.0->langchain-pinecone) (2024.7.4)\n",
            "Requirement already satisfied: pinecone-plugin-inference<2.0.0,>=1.0.3 in /usr/local/lib/python3.10/dist-packages (from pinecone-client<6.0.0,>=5.0.0->langchain-pinecone) (1.0.3)\n",
            "Requirement already satisfied: pinecone-plugin-interface<0.0.8,>=0.0.7 in /usr/local/lib/python3.10/dist-packages (from pinecone-client<6.0.0,>=5.0.0->langchain-pinecone) (0.0.7)\n",
            "Requirement already satisfied: tqdm>=4.64.1 in /usr/local/lib/python3.10/dist-packages (from pinecone-client<6.0.0,>=5.0.0->langchain-pinecone) (4.66.5)\n",
            "Requirement already satisfied: urllib3>=1.26.0 in /usr/local/lib/python3.10/dist-packages (from pinecone-client<6.0.0,>=5.0.0->langchain-pinecone) (2.0.7)\n",
            "Requirement already satisfied: jsonpointer>=1.9 in /usr/local/lib/python3.10/dist-packages (from jsonpatch<2.0,>=1.33->langchain-core<0.3,>=0.1.52->langchain-pinecone) (3.0.0)\n",
            "Requirement already satisfied: orjson<4.0.0,>=3.9.14 in /usr/local/lib/python3.10/dist-packages (from langsmith<0.2.0,>=0.1.75->langchain-core<0.3,>=0.1.52->langchain-pinecone) (3.10.7)\n",
            "Requirement already satisfied: requests<3,>=2 in /usr/local/lib/python3.10/dist-packages (from langsmith<0.2.0,>=0.1.75->langchain-core<0.3,>=0.1.52->langchain-pinecone) (2.32.3)\n",
            "Requirement already satisfied: annotated-types>=0.4.0 in /usr/local/lib/python3.10/dist-packages (from pydantic<3,>=1->langchain-core<0.3,>=0.1.52->langchain-pinecone) (0.7.0)\n",
            "Requirement already satisfied: pydantic-core==2.20.1 in /usr/local/lib/python3.10/dist-packages (from pydantic<3,>=1->langchain-core<0.3,>=0.1.52->langchain-pinecone) (2.20.1)\n",
            "Requirement already satisfied: idna>=2.0 in /usr/local/lib/python3.10/dist-packages (from yarl<2.0,>=1.0->aiohttp<4.0.0,>=3.9.5->langchain-pinecone) (3.7)\n",
            "Requirement already satisfied: charset-normalizer<4,>=2 in /usr/local/lib/python3.10/dist-packages (from requests<3,>=2->langsmith<0.2.0,>=0.1.75->langchain-core<0.3,>=0.1.52->langchain-pinecone) (3.3.2)\n"
          ]
        }
      ],
      "source": [
        "!pip install langchain-pinecone"
      ]
    },
    {
      "cell_type": "code",
      "execution_count": 46,
      "metadata": {
        "id": "A0wFzLA3Nn0H"
      },
      "outputs": [],
      "source": [
        "from langchain.vectorstores import Pinecone\n",
        "import os"
      ]
    },
    {
      "cell_type": "code",
      "execution_count": 47,
      "metadata": {
        "id": "aXPsmmwAQA0q"
      },
      "outputs": [],
      "source": [
        "os.environ['PINECONE_API_KEY'] = '<your-api-key>'"
      ]
    },
    {
      "cell_type": "code",
      "execution_count": 48,
      "metadata": {
        "id": "H6_8AUF0PkSA"
      },
      "outputs": [],
      "source": [
        "vectorstore = Pinecone.from_texts(\n",
        "    texts=chunks,\n",
        "    embedding=embeddings,\n",
        "    index_name=index_name\n",
        ")"
      ]
    },
    {
      "cell_type": "code",
      "execution_count": 50,
      "metadata": {
        "colab": {
          "base_uri": "https://localhost:8080/"
        },
        "id": "C6xXYVjhHNBJ",
        "outputId": "f2b99dc8-bbee-4b02-e7c2-e4bbeaa240d7"
      },
      "outputs": [
        {
          "data": {
            "text/plain": [
              "[Document(page_content='3. Results and discussion\\n3.1. AR and ST samples\\nFigs. 2(a) and 2(b) show the optical microscopy (OM) images of the\\nas-received (AR) and solution-treated (ST) samples, respectively.\\nFollowing solution treatment at 800◦ C for 1 h, the ST sample reveals an\\naverage grain size ranging from 60 to 70 µm. Fig. 2(c) and (d) show the\\nND-IPF (normal direction -inverse pole figures) maps of the AR and ST'),\n",
              " Document(page_content='solution treatment and aging, small samples were obtained using a\\nprecision diamond-cutting machine (Metco, Chennai). These samples\\nmeasured 5 mm in both the RD and TD directions.\\nFollowing a 1 h solution treatment at 800 ◦ C, the samples underwent\\naging treatments at temperatures ranging from 450 ◦ C to 700 ◦ C for\\ndifferent durations (1 h, 3 h, and 6 h). To carry out solution treatment'),\n",
              " Document(page_content='samples. The AR sample predominantly features deformed grains oriented along the rolling direction (RD), with a texture characterized by\\nthe alignment of (001) poles with the RD. However, microstructural\\nhomogenization caused by solution treatment leads to finer grain size\\nand texture modification with the preferred orientation becoming (111).'),\n",
              " Document(page_content='sizes and reduced misorientation at grain boundaries. Furthermore,\\nsolution treatment alleviates residual stresses, fosters a uniform grain\\norientation, and induces changes in crystallographic texture, all of\\nwhich impact misorientation patterns and subsequently lower KAM\\nvalues.')]"
            ]
          },
          "execution_count": 50,
          "metadata": {},
          "output_type": "execute_result"
        }
      ],
      "source": [
        "#keyword search 1\n",
        "vectorstore.similarity_search(\"solution treatment has average grain size ranging from\")\n",
        "\n",
        "#score:1\n"
      ]
    },
    {
      "cell_type": "code",
      "execution_count": 51,
      "metadata": {
        "colab": {
          "base_uri": "https://localhost:8080/"
        },
        "id": "5CocQVn6HnY_",
        "outputId": "03a568f9-5575-4ce4-b162-dfc2a395157a"
      },
      "outputs": [
        {
          "data": {
            "text/plain": [
              "[Document(page_content='CRediT authorship contribution statement\\nIsh Kumar Jha: Methodology, Investigation. Rajesh Kisni Khatirkar: Supervision, Investigation. Jaiveer Singh: Writing – review &\\nediting, Supervision, Conceptualization. Jaideep Gupta: Writing –\\noriginal draft, Investigation.\\nDeclaration of Competing Interest\\nI confirm that there is no conflict of interest.\\nData availability'),\n",
              " Document(page_content='I confirm that there is no conflict of interest.\\nData availability\\nWe have included all the data used in this study'),\n",
              " Document(page_content='https://doi.org/10.1016/j.jallcom.2024.175803\\nReceived 2 May 2024; Received in revised form 21 July 2024; Accepted 31 July 2024\\nAvailable online 31 July 2024\\n0925-8388/© 2024 Elsevier B.V. All rights are reserved, including those for text and data mining, AI training, and similar technologies.'),\n",
              " Document(page_content='J. Gupta et al.\\n\\nJournal of Alloys and Compounds 1004 (2024) 175803')]"
            ]
          },
          "execution_count": 51,
          "metadata": {},
          "output_type": "execute_result"
        }
      ],
      "source": [
        "#keyword search 2\n",
        "vectorstore.similarity_search(\"authorship contribution\")\n",
        "#score:1"
      ]
    },
    {
      "cell_type": "code",
      "execution_count": 52,
      "metadata": {
        "colab": {
          "base_uri": "https://localhost:8080/"
        },
        "id": "rIL0RnMFHoXP",
        "outputId": "d59b58da-096e-45ac-d90c-9cb114b42033"
      },
      "outputs": [
        {
          "data": {
            "text/plain": [
              "[Document(page_content='8 h had a UTS of 1209 MPa and elongation of 10 %.\\nFurthermore, the sample aged at 500◦ C for 6 h exhibits an UTS of\\n1160 MPa, which rises to 1214 MPa after 9 h and 1392 MPa after 15 h\\n(see Fig. S2(a)). This corresponds to a 4.6 % and 20 % improvement for\\nthe 9 h and 15 h samples, respectively, compared to the 6 h sample. UTS\\nfor the sample aged at 550◦ C for 6 h is 1087 MPa, rising to 1255 MPa'),\n",
              " Document(page_content='mechanical investigation.\\nFor 6 h aged samples, there is a positive correlation between UTS and'),\n",
              " Document(page_content='peak aging and there are apparent precipitation-free zones in the OM\\nimages. Therefore, at the peak aging temperatures of 500 ◦ C and 550 ◦ C,\\naging time has been further increased to 9 h and 15 h. Supplementary\\nFig. S1(a-b) shows OM images of samples aged at 500 ◦ C for 9 h and\\n15 h, respectively. There is a significant reduction in the size of'),\n",
              " Document(page_content='J. Gupta et al.\\n\\nJournal of Alloys and Compounds 1004 (2024) 175803\\n\\nFig. 9. Variation of (a) UTS and (b) ductility of 3 h aged samples at various aging temperatures.\\n\\nFig. 10. Variation of (a) UTS and (b) ductility for 6 h aged samples at various aging temperatures.')]"
            ]
          },
          "execution_count": 52,
          "metadata": {},
          "output_type": "execute_result"
        }
      ],
      "source": [
        "#keyword search 3\n",
        "vectorstore.similarity_search(\"sample aged at 500◦C for 6 h exhibits an UTS of\")\n",
        "#score:1\n"
      ]
    },
    {
      "cell_type": "code",
      "execution_count": 54,
      "metadata": {
        "colab": {
          "base_uri": "https://localhost:8080/"
        },
        "id": "_TYlNzBrHoQZ",
        "outputId": "cc5515ef-3f42-4cbe-b458-a6a4681ec55d"
      },
      "outputs": [
        {
          "data": {
            "text/plain": [
              "[Document(page_content='CRediT authorship contribution statement\\nIsh Kumar Jha: Methodology, Investigation. Rajesh Kisni Khatirkar: Supervision, Investigation. Jaiveer Singh: Writing – review &\\nediting, Supervision, Conceptualization. Jaideep Gupta: Writing –\\noriginal draft, Investigation.\\nDeclaration of Competing Interest\\nI confirm that there is no conflict of interest.\\nData availability'),\n",
              " Document(page_content='of the dependence of mechanical properties on the resultant microstructure [33], [34]. In this work, techniques of optical microscopy,\\ntensile testing, EBSD, and fractography have been used to investigate the\\nrelationship between microstructural evolution and mechanical properties of Ti-15333 alloy. The current study shall contribute not only to a'),\n",
              " Document(page_content='better understanding of the relationship between the microstructure and\\nthe mechanical properties of Ti-15333 but also to its precise control and\\nprediction.\\n2. Materials and methods\\nIn the present study, a hot rolled Ti–15 V–3Cr–3Al–3Sn (Ti-15333) β\\nTi alloy sheet with 5 mm initial thickness was used to evaluate the effect'),\n",
              " Document(page_content='3. Results and discussion\\n3.1. AR and ST samples\\nFigs. 2(a) and 2(b) show the optical microscopy (OM) images of the\\nas-received (AR) and solution-treated (ST) samples, respectively.\\nFollowing solution treatment at 800◦ C for 1 h, the ST sample reveals an\\naverage grain size ranging from 60 to 70 µm. Fig. 2(c) and (d) show the\\nND-IPF (normal direction -inverse pole figures) maps of the AR and ST')]"
            ]
          },
          "execution_count": 54,
          "metadata": {},
          "output_type": "execute_result"
        }
      ],
      "source": [
        "#keyword search 4\n",
        "vectorstore.similarity_search(\"The main aim of this study is \")\n",
        "#score:1"
      ]
    },
    {
      "cell_type": "code",
      "execution_count": 62,
      "metadata": {
        "colab": {
          "base_uri": "https://localhost:8080/"
        },
        "id": "kuQ6jmViHoIg",
        "outputId": "a5e7ea26-6e33-428b-bab4-ed827c8ac97d"
      },
      "outputs": [
        {
          "data": {
            "text/plain": [
              "[Document(page_content='of the dependence of mechanical properties on the resultant microstructure [33], [34]. In this work, techniques of optical microscopy,\\ntensile testing, EBSD, and fractography have been used to investigate the\\nrelationship between microstructural evolution and mechanical properties of Ti-15333 alloy. The current study shall contribute not only to a'),\n",
              " Document(page_content='Journal of Alloys and Compounds 1004 (2024) 175803\\n\\nContents lists available at ScienceDirect\\n\\nJournal of Alloys and Compounds\\njournal homepage: www.elsevier.com/locate/jalcom\\n\\nEffect of aging on tensile and fracture behavior of a metastable\\nTi-15 V–3Cr–3Al–3Sn β-titanium alloy\\nJaideep Gupta a , Ish Kumar Jha a , Rajesh K. Khatirkar b , Jaiveer Singh a, *\\na\\nb'),\n",
              " Document(page_content='Sponsored by the Titanium Committee of TMS, Held at the 1993 Annual TMS\\nMeeting, Warrendale, PA (United States), Minerals, Metals and Materials Society,\\nDenver,Colorado, 1993.\\n[33] C. Li, J. Chen, W. Li, J.J. He, W. Qiu, Y.J. Ren, J.L. Chen, J.H. Chen, Study on the\\nrelationship between microstructure and mechanical property in a metastable β'),\n",
              " Document(page_content='A R T I C L E I N F O\\n\\nA B S T R A C T\\n\\nKeywords:\\nMetastable β Ti alloy\\nTi-15333\\nAging\\nα precipitates\\nPlastic deformation')]"
            ]
          },
          "execution_count": 62,
          "metadata": {},
          "output_type": "execute_result"
        }
      ],
      "source": [
        "#keyword search 5\n",
        "vectorstore.similarity_search(\"what is this text about?\")\n",
        "#score:1"
      ]
    },
    {
      "cell_type": "code",
      "execution_count": 57,
      "metadata": {
        "colab": {
          "base_uri": "https://localhost:8080/"
        },
        "id": "ie-jaco6HoBY",
        "outputId": "afbdee86-eafd-4465-893c-5c8d9830f4b7"
      },
      "outputs": [
        {
          "data": {
            "text/plain": [
              "[Document(page_content='Fig. 1. Thermomechanical processing of Ti-15333 alloy used in this study.'),\n",
              " Document(page_content='This study aims to investigate the mechanical behaviors of Ti–15 V–3Cr–3Al–3Sn (Ti-15333), a metastable β\\ntitanium alloy. Thermomechanical processing of the alloy sheet in its as-received state included solution treatment at 800◦ C, followed by varying aging temperatures from 450◦ C to 700◦ C. As the aging temperature rises, α'),\n",
              " Document(page_content='of the dependence of mechanical properties on the resultant microstructure [33], [34]. In this work, techniques of optical microscopy,\\ntensile testing, EBSD, and fractography have been used to investigate the\\nrelationship between microstructural evolution and mechanical properties of Ti-15333 alloy. The current study shall contribute not only to a'),\n",
              " Document(page_content='better understanding of the relationship between the microstructure and\\nthe mechanical properties of Ti-15333 but also to its precise control and\\nprediction.\\n2. Materials and methods\\nIn the present study, a hot rolled Ti–15 V–3Cr–3Al–3Sn (Ti-15333) β\\nTi alloy sheet with 5 mm initial thickness was used to evaluate the effect')]"
            ]
          },
          "execution_count": 57,
          "metadata": {},
          "output_type": "execute_result"
        }
      ],
      "source": [
        "#semantic search 1\n",
        "vectorstore.similarity_search(\"what is the alloy used in this study ?\")\n",
        "#score:1"
      ]
    },
    {
      "cell_type": "code",
      "execution_count": 58,
      "metadata": {
        "colab": {
          "base_uri": "https://localhost:8080/"
        },
        "id": "4RJp0nOpHn4P",
        "outputId": "2b56980a-8fc1-49ad-9882-4efbbc6f97a5"
      },
      "outputs": [
        {
          "data": {
            "text/plain": [
              "[Document(page_content='tensile specimens using EBSD revealed a random texture. KAM value reflecting dislocation density rose with both\\naging temperature and duration, with its highest average reported for 6 h aging condition at 500◦ C and 550◦ C,\\naligning with peak level of α precipitation. The size, shape, and size distributions of α precipitates also had a'),\n",
              " Document(page_content='limited ductility in such instances. As the aging temperature rose to\\n600◦ C and above, over-aged specimens predominantly displayed dimple\\nfracture rather than quasi-cleavage. The emergence of large dimples was\\nattributed to the presence of coarse α platelets in the over-aged specimens. These findings also align with the observations made during the\\nmechanical investigation.'),\n",
              " Document(page_content='4. While aged samples show random texture, the average KAM value\\nshows an increase with both the aging temperature and duration,\\npeaking in samples aged for 6 h at 500 ◦ C and 550 ◦ C. This is due to\\nthe presence of an optimized microstructure at these temperatures,\\nfeaturing a substantial amount of well-distributed α phase that can'),\n",
              " Document(page_content='aging temperatures over durations of 3 h and 6 h, respectively. At\\n450 ◦ C, small α phase precipitates do not exert significant pinning force\\non grain boundaries, moreover, this limited precipitation also results in\\na more heterogeneous microstructure. This heterogeneity results in a\\ngreater spread of grain orientations and higher GOS values. It’s notable')]"
            ]
          },
          "execution_count": 58,
          "metadata": {},
          "output_type": "execute_result"
        }
      ],
      "source": [
        "#semantic search 2\n",
        "vectorstore.similarity_search(\"what is effect of aging temperature on microstructure of the sample ?\")\n",
        "#score:1"
      ]
    },
    {
      "cell_type": "code",
      "execution_count": 59,
      "metadata": {
        "colab": {
          "base_uri": "https://localhost:8080/"
        },
        "id": "0rYRIuuwH3pF",
        "outputId": "a4fdee39-ef6a-4104-d7e9-b478b9b2565f"
      },
      "outputs": [
        {
          "data": {
            "text/plain": [
              "[Document(page_content='Fig. 15. Different fracture features observed in aged tensile samples, (a) and (b) AR, (c) and (d) ST (e) 500◦ C 3 h and (f) 500◦ C 6 h.\\n11\\n\\n\\x0cJ. Gupta et al.\\n\\nJournal of Alloys and Compounds 1004 (2024) 175803\\n\\nFig. 16. Magnified fractograph of 500◦ C/6 h aged fractured tensile sample shows alternate patterns of dimples and cleavage facets.'),\n",
              " Document(page_content='ductility with an increase in temperature from 450 ◦ C and 500 ◦ C, as has\\nbeen previously reported in this paper. This unusual behavior of Ti15333 alloy at 500 ◦ C 6 h can be explained by comparing the fractograph of samples aged at this condition to those aged at other conditions.\\nFig. 16 shows a magnified fractograph of 500 ◦ C 6 h aged fractured'),\n",
              " Document(page_content='Fig. 16 shows a magnified fractograph of 500 ◦ C 6 h aged fractured\\ntensile sample, SEM image reveals a periodic pattern of dimples and\\ncleavage, with evenly distributed cleavage facets across the surface,\\nwhich may have contributed to its higher ductility. This result is\\nconsistent with a study by Ma and Wang [65] on Ti-15333, which'),\n",
              " Document(page_content='remarkable elongation to fracture of 34 % (AR) and 38 % (ST). When\\nspecimens underwent age hardening at lower temperatures, corresponding to under-aged and peak-aged conditions, morphological observations of fracture surfaces revealed a fracture pattern characterized\\nby a combination of quasi-cleavage and shallow dimples. This indicates')]"
            ]
          },
          "execution_count": 59,
          "metadata": {},
          "output_type": "execute_result"
        }
      ],
      "source": [
        "#semantic search 3\n",
        "vectorstore.similarity_search(\"what are the main fractography results of this study \")\n",
        "#score:1\n"
      ]
    },
    {
      "cell_type": "code",
      "execution_count": 60,
      "metadata": {
        "colab": {
          "base_uri": "https://localhost:8080/"
        },
        "id": "C5x1HQ7LH5iN",
        "outputId": "1f7ba1bf-4220-4f86-fbc0-68f3ebfcb9c5"
      },
      "outputs": [
        {
          "data": {
            "text/plain": [
              "[Document(page_content='CRediT authorship contribution statement\\nIsh Kumar Jha: Methodology, Investigation. Rajesh Kisni Khatirkar: Supervision, Investigation. Jaiveer Singh: Writing – review &\\nediting, Supervision, Conceptualization. Jaideep Gupta: Writing –\\noriginal draft, Investigation.\\nDeclaration of Competing Interest\\nI confirm that there is no conflict of interest.\\nData availability'),\n",
              " Document(page_content='I confirm that there is no conflict of interest.\\nData availability\\nWe have included all the data used in this study'),\n",
              " Document(page_content='Department of Metallurgical and Materials Engineering, Indian Institute of Technology Jodhpur, Karwar, Jodhpur, Rajasthan 342037, India\\nDepartment of Metallurgical and Materials Engineering, Visvesvaraya National Institute of Technology, South Ambazari Road, Nagpur, Maharashtra 440010, India\\n\\nA R T I C L E I N F O\\n\\nA B S T R A C T'),\n",
              " Document(page_content='of the dependence of mechanical properties on the resultant microstructure [33], [34]. In this work, techniques of optical microscopy,\\ntensile testing, EBSD, and fractography have been used to investigate the\\nrelationship between microstructural evolution and mechanical properties of Ti-15333 alloy. The current study shall contribute not only to a')]"
            ]
          },
          "execution_count": 60,
          "metadata": {},
          "output_type": "execute_result"
        }
      ],
      "source": [
        "#semantic search 4\n",
        "vectorstore.similarity_search(\"who all are the authors and what are their contributions to this study ?\")\n",
        "#score:1"
      ]
    },
    {
      "cell_type": "code",
      "execution_count": 61,
      "metadata": {
        "colab": {
          "base_uri": "https://localhost:8080/"
        },
        "id": "qaCuAbeTH7Y9",
        "outputId": "24c27c2a-6a1d-429f-9792-a788c56f0f69"
      },
      "outputs": [
        {
          "data": {
            "text/plain": [
              "[Document(page_content='through a variety of heat treatments and hot working techniques [8],\\n[9]. This typically involves a sequence of steps, including\\nthermo-mechanical processing, followed by solution treatment and\\naging. Modifying the processing, solutionizing, or aging temperatures'),\n",
              " Document(page_content='of aging on the evolution of microstructure and its effect on the mechanical properties. Initially, the sheet was hot rolled above its BetaTransus temperature (Tβ) i.e. 760◦ C to retain the β phase and to prevent any phase transformation. The entire thermomechanical processing\\nof Ti-15333 alloy used in this study is shown in Fig. 1. To prepare for'),\n",
              " Document(page_content='and aging, a horizontal tube furnace (Swam Equip, Chennai) was used in\\nan environment purged with argon gas to prevent oxidation. The target\\ntemperature was reached by heating at a rate of 5 ◦ C per minute, and the\\ntemperature was held steady within ± 1 ◦ C during the entire process.\\nOptical microscopy (OM) was used to examine the microstructures of\\n2'),\n",
              " Document(page_content='Fig. 1. Thermomechanical processing of Ti-15333 alloy used in this study.')]"
            ]
          },
          "execution_count": 61,
          "metadata": {},
          "output_type": "execute_result"
        }
      ],
      "source": [
        "#semantic search 5\n",
        "vectorstore.similarity_search(\"what are the step involved in the thermochemical processing ?\")\n",
        "#score:1"
      ]
    },
    {
      "cell_type": "code",
      "execution_count": null,
      "metadata": {
        "id": "Q8eLjUyFMjCq"
      },
      "outputs": [],
      "source": [
        "from langchain.embeddings import HuggingFaceEmbeddings\n",
        "from langchain.vectorstores import Pinecone\n",
        "from pinecone import Pinecone, ServerlessSpec\n",
        "\n",
        "# Initialize embeddings\n",
        "embeddings = HuggingFaceEmbeddings()\n",
        "\n",
        "# Initialize Pinecone index\n",
        "index_name = \"pinecone-research-paper-semantic\"  # Choose a suitable name\n",
        "pc = Pinecone(api_key=pinecone_api)\n",
        "#If index already exists, delete it and create a new one\n",
        "if index_name in pc.list_indexes():\n",
        "    pc.delete_index(index_name)\n",
        "pc.create_index(\n",
        "    name=index_name,\n",
        "    dimension=768,  # Adjust to match your embedding dimension\n",
        "    metric=\"cosine\",\n",
        "    spec=ServerlessSpec(\n",
        "       cloud=\"aws\",\n",
        "       region=\"us-east-1\"\n",
        "    )\n",
        ")\n",
        "index = pc.Index(index_name)\n",
        "\n",
        "# Initialize Pinecone vectorstore\n",
        "text_field= \"text\"\n",
        "vectorstore = Pinecone.from_texts(\n",
        "    texts=chunks,\n",
        "    embedding=embeddings,\n",
        "    index_name=index_name\n",
        ")\n",
        "\n",
        "# Create a retriever from the vectorstore\n",
        "retriever = vectorstore.as_retriever()\n",
        "\n",
        "# Now you can use the retriever for semantic search\n",
        "retriever.get_relevant_documents(\"your query here\")"
      ]
    }
  ],
  "metadata": {
    "colab": {
      "provenance": []
    },
    "kernelspec": {
      "display_name": "Python 3",
      "name": "python3"
    },
    "language_info": {
      "name": "python"
    },
    "widgets": {
      "application/vnd.jupyter.widget-state+json": {
        "0d33403910a9466c9aed15861fe03b2e": {
          "model_module": "@jupyter-widgets/base",
          "model_module_version": "1.2.0",
          "model_name": "LayoutModel",
          "state": {
            "_model_module": "@jupyter-widgets/base",
            "_model_module_version": "1.2.0",
            "_model_name": "LayoutModel",
            "_view_count": null,
            "_view_module": "@jupyter-widgets/base",
            "_view_module_version": "1.2.0",
            "_view_name": "LayoutView",
            "align_content": null,
            "align_items": null,
            "align_self": null,
            "border": null,
            "bottom": null,
            "display": null,
            "flex": null,
            "flex_flow": null,
            "grid_area": null,
            "grid_auto_columns": null,
            "grid_auto_flow": null,
            "grid_auto_rows": null,
            "grid_column": null,
            "grid_gap": null,
            "grid_row": null,
            "grid_template_areas": null,
            "grid_template_columns": null,
            "grid_template_rows": null,
            "height": null,
            "justify_content": null,
            "justify_items": null,
            "left": null,
            "margin": null,
            "max_height": null,
            "max_width": null,
            "min_height": null,
            "min_width": null,
            "object_fit": null,
            "object_position": null,
            "order": null,
            "overflow": null,
            "overflow_x": null,
            "overflow_y": null,
            "padding": null,
            "right": null,
            "top": null,
            "visibility": null,
            "width": null
          }
        },
        "26e710497c7344b48f9859f746647ff6": {
          "model_module": "@jupyter-widgets/base",
          "model_module_version": "1.2.0",
          "model_name": "LayoutModel",
          "state": {
            "_model_module": "@jupyter-widgets/base",
            "_model_module_version": "1.2.0",
            "_model_name": "LayoutModel",
            "_view_count": null,
            "_view_module": "@jupyter-widgets/base",
            "_view_module_version": "1.2.0",
            "_view_name": "LayoutView",
            "align_content": null,
            "align_items": null,
            "align_self": null,
            "border": null,
            "bottom": null,
            "display": null,
            "flex": null,
            "flex_flow": null,
            "grid_area": null,
            "grid_auto_columns": null,
            "grid_auto_flow": null,
            "grid_auto_rows": null,
            "grid_column": null,
            "grid_gap": null,
            "grid_row": null,
            "grid_template_areas": null,
            "grid_template_columns": null,
            "grid_template_rows": null,
            "height": null,
            "justify_content": null,
            "justify_items": null,
            "left": null,
            "margin": null,
            "max_height": null,
            "max_width": null,
            "min_height": null,
            "min_width": null,
            "object_fit": null,
            "object_position": null,
            "order": null,
            "overflow": null,
            "overflow_x": null,
            "overflow_y": null,
            "padding": null,
            "right": null,
            "top": null,
            "visibility": null,
            "width": null
          }
        },
        "3694bae021b54541bfb6218121ee66be": {
          "model_module": "@jupyter-widgets/base",
          "model_module_version": "1.2.0",
          "model_name": "LayoutModel",
          "state": {
            "_model_module": "@jupyter-widgets/base",
            "_model_module_version": "1.2.0",
            "_model_name": "LayoutModel",
            "_view_count": null,
            "_view_module": "@jupyter-widgets/base",
            "_view_module_version": "1.2.0",
            "_view_name": "LayoutView",
            "align_content": null,
            "align_items": null,
            "align_self": null,
            "border": null,
            "bottom": null,
            "display": null,
            "flex": null,
            "flex_flow": null,
            "grid_area": null,
            "grid_auto_columns": null,
            "grid_auto_flow": null,
            "grid_auto_rows": null,
            "grid_column": null,
            "grid_gap": null,
            "grid_row": null,
            "grid_template_areas": null,
            "grid_template_columns": null,
            "grid_template_rows": null,
            "height": null,
            "justify_content": null,
            "justify_items": null,
            "left": null,
            "margin": null,
            "max_height": null,
            "max_width": null,
            "min_height": null,
            "min_width": null,
            "object_fit": null,
            "object_position": null,
            "order": null,
            "overflow": null,
            "overflow_x": null,
            "overflow_y": null,
            "padding": null,
            "right": null,
            "top": null,
            "visibility": null,
            "width": null
          }
        },
        "3b78295536a7444f9e566584a4f63596": {
          "model_module": "@jupyter-widgets/controls",
          "model_module_version": "1.5.0",
          "model_name": "DescriptionStyleModel",
          "state": {
            "_model_module": "@jupyter-widgets/controls",
            "_model_module_version": "1.5.0",
            "_model_name": "DescriptionStyleModel",
            "_view_count": null,
            "_view_module": "@jupyter-widgets/base",
            "_view_module_version": "1.2.0",
            "_view_name": "StyleView",
            "description_width": ""
          }
        },
        "4af54e4e188f477aa8c6ad46849315ce": {
          "model_module": "@jupyter-widgets/controls",
          "model_module_version": "1.5.0",
          "model_name": "FloatProgressModel",
          "state": {
            "_dom_classes": [],
            "_model_module": "@jupyter-widgets/controls",
            "_model_module_version": "1.5.0",
            "_model_name": "FloatProgressModel",
            "_view_count": null,
            "_view_module": "@jupyter-widgets/controls",
            "_view_module_version": "1.5.0",
            "_view_name": "ProgressView",
            "bar_style": "success",
            "description": "",
            "description_tooltip": null,
            "layout": "IPY_MODEL_9250e8228d6e4ea2a24bb79ae3d15967",
            "max": 7,
            "min": 0,
            "orientation": "horizontal",
            "style": "IPY_MODEL_e9fec174b65143359866a93da08cd509",
            "value": 7
          }
        },
        "50e4e5d0e400428f9a14d9c2fd1c34d2": {
          "model_module": "@jupyter-widgets/controls",
          "model_module_version": "1.5.0",
          "model_name": "HTMLModel",
          "state": {
            "_dom_classes": [],
            "_model_module": "@jupyter-widgets/controls",
            "_model_module_version": "1.5.0",
            "_model_name": "HTMLModel",
            "_view_count": null,
            "_view_module": "@jupyter-widgets/controls",
            "_view_module_version": "1.5.0",
            "_view_name": "HTMLView",
            "description": "",
            "description_tooltip": null,
            "layout": "IPY_MODEL_3694bae021b54541bfb6218121ee66be",
            "placeholder": "​",
            "style": "IPY_MODEL_cb882aea4ead482093ad7e3bf6c50488",
            "value": "100%"
          }
        },
        "9250e8228d6e4ea2a24bb79ae3d15967": {
          "model_module": "@jupyter-widgets/base",
          "model_module_version": "1.2.0",
          "model_name": "LayoutModel",
          "state": {
            "_model_module": "@jupyter-widgets/base",
            "_model_module_version": "1.2.0",
            "_model_name": "LayoutModel",
            "_view_count": null,
            "_view_module": "@jupyter-widgets/base",
            "_view_module_version": "1.2.0",
            "_view_name": "LayoutView",
            "align_content": null,
            "align_items": null,
            "align_self": null,
            "border": null,
            "bottom": null,
            "display": null,
            "flex": null,
            "flex_flow": null,
            "grid_area": null,
            "grid_auto_columns": null,
            "grid_auto_flow": null,
            "grid_auto_rows": null,
            "grid_column": null,
            "grid_gap": null,
            "grid_row": null,
            "grid_template_areas": null,
            "grid_template_columns": null,
            "grid_template_rows": null,
            "height": null,
            "justify_content": null,
            "justify_items": null,
            "left": null,
            "margin": null,
            "max_height": null,
            "max_width": null,
            "min_height": null,
            "min_width": null,
            "object_fit": null,
            "object_position": null,
            "order": null,
            "overflow": null,
            "overflow_x": null,
            "overflow_y": null,
            "padding": null,
            "right": null,
            "top": null,
            "visibility": null,
            "width": null
          }
        },
        "9af4bb60b327497d81b2fe61d2b3a86d": {
          "model_module": "@jupyter-widgets/controls",
          "model_module_version": "1.5.0",
          "model_name": "HTMLModel",
          "state": {
            "_dom_classes": [],
            "_model_module": "@jupyter-widgets/controls",
            "_model_module_version": "1.5.0",
            "_model_name": "HTMLModel",
            "_view_count": null,
            "_view_module": "@jupyter-widgets/controls",
            "_view_module_version": "1.5.0",
            "_view_name": "HTMLView",
            "description": "",
            "description_tooltip": null,
            "layout": "IPY_MODEL_26e710497c7344b48f9859f746647ff6",
            "placeholder": "​",
            "style": "IPY_MODEL_3b78295536a7444f9e566584a4f63596",
            "value": " 7/7 [00:05&lt;00:00,  1.61it/s]"
          }
        },
        "ab83d37824e2416da9129376c2cb2eb9": {
          "model_module": "@jupyter-widgets/controls",
          "model_module_version": "1.5.0",
          "model_name": "HBoxModel",
          "state": {
            "_dom_classes": [],
            "_model_module": "@jupyter-widgets/controls",
            "_model_module_version": "1.5.0",
            "_model_name": "HBoxModel",
            "_view_count": null,
            "_view_module": "@jupyter-widgets/controls",
            "_view_module_version": "1.5.0",
            "_view_name": "HBoxView",
            "box_style": "",
            "children": [
              "IPY_MODEL_50e4e5d0e400428f9a14d9c2fd1c34d2",
              "IPY_MODEL_4af54e4e188f477aa8c6ad46849315ce",
              "IPY_MODEL_9af4bb60b327497d81b2fe61d2b3a86d"
            ],
            "layout": "IPY_MODEL_0d33403910a9466c9aed15861fe03b2e"
          }
        },
        "cb882aea4ead482093ad7e3bf6c50488": {
          "model_module": "@jupyter-widgets/controls",
          "model_module_version": "1.5.0",
          "model_name": "DescriptionStyleModel",
          "state": {
            "_model_module": "@jupyter-widgets/controls",
            "_model_module_version": "1.5.0",
            "_model_name": "DescriptionStyleModel",
            "_view_count": null,
            "_view_module": "@jupyter-widgets/base",
            "_view_module_version": "1.2.0",
            "_view_name": "StyleView",
            "description_width": ""
          }
        },
        "e9fec174b65143359866a93da08cd509": {
          "model_module": "@jupyter-widgets/controls",
          "model_module_version": "1.5.0",
          "model_name": "ProgressStyleModel",
          "state": {
            "_model_module": "@jupyter-widgets/controls",
            "_model_module_version": "1.5.0",
            "_model_name": "ProgressStyleModel",
            "_view_count": null,
            "_view_module": "@jupyter-widgets/base",
            "_view_module_version": "1.2.0",
            "_view_name": "StyleView",
            "bar_color": null,
            "description_width": ""
          }
        }
      }
    }
  },
  "nbformat": 4,
  "nbformat_minor": 0
}
